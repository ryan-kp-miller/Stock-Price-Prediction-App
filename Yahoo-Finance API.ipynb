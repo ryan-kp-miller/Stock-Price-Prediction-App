{
 "cells": [
  {
   "cell_type": "markdown",
   "metadata": {},
   "source": [
    "# Yahoo Finance API Example Usage"
   ]
  },
  {
   "cell_type": "markdown",
   "metadata": {},
   "source": [
    "### Pip Install Command"
   ]
  },
  {
   "cell_type": "code",
   "execution_count": 10,
   "metadata": {
    "collapsed": true
   },
   "outputs": [
    {
     "name": "stdout",
     "output_type": "stream",
     "text": [
      "Collecting yfinance\n",
      "  Downloading https://files.pythonhosted.org/packages/85/56/5e26c150517acbdce8e31d3e6169530e102a0575f5eb1a4310753e53a424/yfinance-0.1.50.tar.gz\n",
      "Requirement already satisfied: pandas>=0.24 in c:\\users\\ord-ryanmi\\appdata\\local\\continuum\\anaconda3\\lib\\site-packages (from yfinance) (0.24.2)\n",
      "Requirement already satisfied: numpy>=1.15 in c:\\users\\ord-ryanmi\\appdata\\local\\continuum\\anaconda3\\lib\\site-packages (from yfinance) (1.16.2)\n",
      "Requirement already satisfied: requests>=2.20 in c:\\users\\ord-ryanmi\\appdata\\local\\continuum\\anaconda3\\lib\\site-packages (from yfinance) (2.21.0)\n",
      "Collecting multitasking>=0.0.7 (from yfinance)\n",
      "  Downloading https://files.pythonhosted.org/packages/69/e7/e9f1661c28f7b87abfa08cb0e8f51dad2240a9f4f741f02ea839835e6d18/multitasking-0.0.9.tar.gz\n",
      "Requirement already satisfied: python-dateutil>=2.5.0 in c:\\users\\ord-ryanmi\\appdata\\local\\continuum\\anaconda3\\lib\\site-packages (from pandas>=0.24->yfinance) (2.8.0)\n",
      "Requirement already satisfied: pytz>=2011k in c:\\users\\ord-ryanmi\\appdata\\local\\continuum\\anaconda3\\lib\\site-packages (from pandas>=0.24->yfinance) (2018.9)\n",
      "Requirement already satisfied: urllib3<1.25,>=1.21.1 in c:\\users\\ord-ryanmi\\appdata\\local\\continuum\\anaconda3\\lib\\site-packages (from requests>=2.20->yfinance) (1.24.1)\n",
      "Requirement already satisfied: chardet<3.1.0,>=3.0.2 in c:\\users\\ord-ryanmi\\appdata\\local\\continuum\\anaconda3\\lib\\site-packages (from requests>=2.20->yfinance) (3.0.4)\n",
      "Requirement already satisfied: idna<2.9,>=2.5 in c:\\users\\ord-ryanmi\\appdata\\local\\continuum\\anaconda3\\lib\\site-packages (from requests>=2.20->yfinance) (2.8)\n",
      "Requirement already satisfied: certifi>=2017.4.17 in c:\\users\\ord-ryanmi\\appdata\\local\\continuum\\anaconda3\\lib\\site-packages (from requests>=2.20->yfinance) (2019.6.16)\n",
      "Requirement already satisfied: six>=1.5 in c:\\users\\ord-ryanmi\\appdata\\local\\continuum\\anaconda3\\lib\\site-packages (from python-dateutil>=2.5.0->pandas>=0.24->yfinance) (1.12.0)\n",
      "Building wheels for collected packages: yfinance, multitasking\n",
      "  Building wheel for yfinance (setup.py): started\n",
      "  Building wheel for yfinance (setup.py): finished with status 'done'\n",
      "  Stored in directory: C:\\Users\\ord-ryanmi\\AppData\\Local\\pip\\Cache\\wheels\\19\\2a\\e6\\b4d4cc977576e18220a36866acf2f2cf7241f16af5f8795b17\n",
      "  Building wheel for multitasking (setup.py): started\n",
      "  Building wheel for multitasking (setup.py): finished with status 'done'\n",
      "  Stored in directory: C:\\Users\\ord-ryanmi\\AppData\\Local\\pip\\Cache\\wheels\\37\\fa\\73\\d492849e319038eb4d986f5152e4b19ffb1bc0639da84d2677\n",
      "Successfully built yfinance multitasking\n",
      "Installing collected packages: multitasking, yfinance\n",
      "Successfully installed multitasking-0.0.9 yfinance-0.1.50\n"
     ]
    }
   ],
   "source": [
    "!pip install yfinance"
   ]
  },
  {
   "cell_type": "markdown",
   "metadata": {},
   "source": [
    "### Importing Dependencies"
   ]
  },
  {
   "cell_type": "code",
   "execution_count": 11,
   "metadata": {},
   "outputs": [],
   "source": [
    "import yfinance as yf"
   ]
  },
  {
   "cell_type": "markdown",
   "metadata": {},
   "source": [
    "### Downloading 5 Years of JPM Adjusted Close Prices"
   ]
  },
  {
   "cell_type": "code",
   "execution_count": 27,
   "metadata": {},
   "outputs": [
    {
     "name": "stdout",
     "output_type": "stream",
     "text": [
      "[*********************100%***********************]  2 of 2 completed\n"
     ]
    },
    {
     "data": {
      "text/html": [
       "<div>\n",
       "<style scoped>\n",
       "    .dataframe tbody tr th:only-of-type {\n",
       "        vertical-align: middle;\n",
       "    }\n",
       "\n",
       "    .dataframe tbody tr th {\n",
       "        vertical-align: top;\n",
       "    }\n",
       "\n",
       "    .dataframe thead tr th {\n",
       "        text-align: left;\n",
       "    }\n",
       "\n",
       "    .dataframe thead tr:last-of-type th {\n",
       "        text-align: right;\n",
       "    }\n",
       "</style>\n",
       "<table border=\"1\" class=\"dataframe\">\n",
       "  <thead>\n",
       "    <tr>\n",
       "      <th></th>\n",
       "      <th colspan=\"5\" halign=\"left\">JPM</th>\n",
       "      <th colspan=\"5\" halign=\"left\">SPY</th>\n",
       "    </tr>\n",
       "    <tr>\n",
       "      <th></th>\n",
       "      <th>Open</th>\n",
       "      <th>High</th>\n",
       "      <th>Low</th>\n",
       "      <th>Close</th>\n",
       "      <th>Volume</th>\n",
       "      <th>Open</th>\n",
       "      <th>High</th>\n",
       "      <th>Low</th>\n",
       "      <th>Close</th>\n",
       "      <th>Volume</th>\n",
       "    </tr>\n",
       "    <tr>\n",
       "      <th>Date</th>\n",
       "      <th></th>\n",
       "      <th></th>\n",
       "      <th></th>\n",
       "      <th></th>\n",
       "      <th></th>\n",
       "      <th></th>\n",
       "      <th></th>\n",
       "      <th></th>\n",
       "      <th></th>\n",
       "      <th></th>\n",
       "    </tr>\n",
       "  </thead>\n",
       "  <tbody>\n",
       "    <tr>\n",
       "      <th>2014-01-02</th>\n",
       "      <td>49.814578</td>\n",
       "      <td>49.976895</td>\n",
       "      <td>49.524113</td>\n",
       "      <td>49.729145</td>\n",
       "      <td>15627600</td>\n",
       "      <td>164.330132</td>\n",
       "      <td>164.410530</td>\n",
       "      <td>162.990338</td>\n",
       "      <td>163.383347</td>\n",
       "      <td>119636900</td>\n",
       "    </tr>\n",
       "    <tr>\n",
       "      <th>2014-01-03</th>\n",
       "      <td>49.797490</td>\n",
       "      <td>50.361332</td>\n",
       "      <td>49.729144</td>\n",
       "      <td>50.113583</td>\n",
       "      <td>14214100</td>\n",
       "      <td>163.660205</td>\n",
       "      <td>163.990696</td>\n",
       "      <td>163.124296</td>\n",
       "      <td>163.356522</td>\n",
       "      <td>81390600</td>\n",
       "    </tr>\n",
       "    <tr>\n",
       "      <th>2014-01-06</th>\n",
       "      <td>50.540730</td>\n",
       "      <td>50.805566</td>\n",
       "      <td>50.258811</td>\n",
       "      <td>50.404041</td>\n",
       "      <td>17550700</td>\n",
       "      <td>163.892464</td>\n",
       "      <td>163.954980</td>\n",
       "      <td>162.633055</td>\n",
       "      <td>162.883148</td>\n",
       "      <td>108028200</td>\n",
       "    </tr>\n",
       "    <tr>\n",
       "      <th>2014-01-07</th>\n",
       "      <td>50.651790</td>\n",
       "      <td>50.771392</td>\n",
       "      <td>49.643709</td>\n",
       "      <td>49.823112</td>\n",
       "      <td>17851200</td>\n",
       "      <td>163.535214</td>\n",
       "      <td>164.160449</td>\n",
       "      <td>163.410168</td>\n",
       "      <td>163.883560</td>\n",
       "      <td>86144200</td>\n",
       "    </tr>\n",
       "    <tr>\n",
       "      <th>2014-01-08</th>\n",
       "      <td>50.011057</td>\n",
       "      <td>50.327149</td>\n",
       "      <td>49.806022</td>\n",
       "      <td>50.292976</td>\n",
       "      <td>14687400</td>\n",
       "      <td>163.856720</td>\n",
       "      <td>164.196139</td>\n",
       "      <td>163.356533</td>\n",
       "      <td>163.919250</td>\n",
       "      <td>96582300</td>\n",
       "    </tr>\n",
       "  </tbody>\n",
       "</table>\n",
       "</div>"
      ],
      "text/plain": [
       "                  JPM                                                    SPY  \\\n",
       "                 Open       High        Low      Close    Volume        Open   \n",
       "Date                                                                           \n",
       "2014-01-02  49.814578  49.976895  49.524113  49.729145  15627600  164.330132   \n",
       "2014-01-03  49.797490  50.361332  49.729144  50.113583  14214100  163.660205   \n",
       "2014-01-06  50.540730  50.805566  50.258811  50.404041  17550700  163.892464   \n",
       "2014-01-07  50.651790  50.771392  49.643709  49.823112  17851200  163.535214   \n",
       "2014-01-08  50.011057  50.327149  49.806022  50.292976  14687400  163.856720   \n",
       "\n",
       "                                                           \n",
       "                  High         Low       Close     Volume  \n",
       "Date                                                       \n",
       "2014-01-02  164.410530  162.990338  163.383347  119636900  \n",
       "2014-01-03  163.990696  163.124296  163.356522   81390600  \n",
       "2014-01-06  163.954980  162.633055  162.883148  108028200  \n",
       "2014-01-07  164.160449  163.410168  163.883560   86144200  \n",
       "2014-01-08  164.196139  163.356533  163.919250   96582300  "
      ]
     },
     "execution_count": 27,
     "metadata": {},
     "output_type": "execute_result"
    }
   ],
   "source": [
    "df = yf.download(\"SPY  JPM\", start=\"2014-01-01\", end=\"2019-11-14\",\n",
    "                   group_by=\"ticker\", auto_adjust=True)\n",
    "df.head()"
   ]
  },
  {
   "cell_type": "code",
   "execution_count": 34,
   "metadata": {},
   "outputs": [
    {
     "data": {
      "text/html": [
       "<div>\n",
       "<style scoped>\n",
       "    .dataframe tbody tr th:only-of-type {\n",
       "        vertical-align: middle;\n",
       "    }\n",
       "\n",
       "    .dataframe tbody tr th {\n",
       "        vertical-align: top;\n",
       "    }\n",
       "\n",
       "    .dataframe thead th {\n",
       "        text-align: right;\n",
       "    }\n",
       "</style>\n",
       "<table border=\"1\" class=\"dataframe\">\n",
       "  <thead>\n",
       "    <tr style=\"text-align: right;\">\n",
       "      <th></th>\n",
       "      <th>Open</th>\n",
       "      <th>High</th>\n",
       "      <th>Low</th>\n",
       "      <th>Close</th>\n",
       "      <th>Volume</th>\n",
       "    </tr>\n",
       "    <tr>\n",
       "      <th>Date</th>\n",
       "      <th></th>\n",
       "      <th></th>\n",
       "      <th></th>\n",
       "      <th></th>\n",
       "      <th></th>\n",
       "    </tr>\n",
       "  </thead>\n",
       "  <tbody>\n",
       "    <tr>\n",
       "      <th>2014-01-02</th>\n",
       "      <td>49.814578</td>\n",
       "      <td>49.976895</td>\n",
       "      <td>49.524113</td>\n",
       "      <td>49.729145</td>\n",
       "      <td>15627600</td>\n",
       "    </tr>\n",
       "    <tr>\n",
       "      <th>2014-01-03</th>\n",
       "      <td>49.797490</td>\n",
       "      <td>50.361332</td>\n",
       "      <td>49.729144</td>\n",
       "      <td>50.113583</td>\n",
       "      <td>14214100</td>\n",
       "    </tr>\n",
       "    <tr>\n",
       "      <th>2014-01-06</th>\n",
       "      <td>50.540730</td>\n",
       "      <td>50.805566</td>\n",
       "      <td>50.258811</td>\n",
       "      <td>50.404041</td>\n",
       "      <td>17550700</td>\n",
       "    </tr>\n",
       "    <tr>\n",
       "      <th>2014-01-07</th>\n",
       "      <td>50.651790</td>\n",
       "      <td>50.771392</td>\n",
       "      <td>49.643709</td>\n",
       "      <td>49.823112</td>\n",
       "      <td>17851200</td>\n",
       "    </tr>\n",
       "    <tr>\n",
       "      <th>2014-01-08</th>\n",
       "      <td>50.011057</td>\n",
       "      <td>50.327149</td>\n",
       "      <td>49.806022</td>\n",
       "      <td>50.292976</td>\n",
       "      <td>14687400</td>\n",
       "    </tr>\n",
       "  </tbody>\n",
       "</table>\n",
       "</div>"
      ],
      "text/plain": [
       "                 Open       High        Low      Close    Volume\n",
       "Date                                                            \n",
       "2014-01-02  49.814578  49.976895  49.524113  49.729145  15627600\n",
       "2014-01-03  49.797490  50.361332  49.729144  50.113583  14214100\n",
       "2014-01-06  50.540730  50.805566  50.258811  50.404041  17550700\n",
       "2014-01-07  50.651790  50.771392  49.643709  49.823112  17851200\n",
       "2014-01-08  50.011057  50.327149  49.806022  50.292976  14687400"
      ]
     },
     "execution_count": 34,
     "metadata": {},
     "output_type": "execute_result"
    }
   ],
   "source": [
    "jpm_df = df['JPM']\n",
    "jpm_df.head()"
   ]
  },
  {
   "cell_type": "code",
   "execution_count": 39,
   "metadata": {},
   "outputs": [
    {
     "name": "stdout",
     "output_type": "stream",
     "text": [
      "JPM First Date:  2014-01-02 00:00:00\n",
      "JPM Last Date:  2019-11-13 00:00:00\n"
     ]
    }
   ],
   "source": [
    "print(\"JPM First Date: \",jpm_df.index.min())\n",
    "print(\"JPM Last Date: \",jpm_df.index.max())"
   ]
  }
 ],
 "metadata": {
  "kernelspec": {
   "display_name": "Python 3",
   "language": "python",
   "name": "python3"
  },
  "language_info": {
   "codemirror_mode": {
    "name": "ipython",
    "version": 3
   },
   "file_extension": ".py",
   "mimetype": "text/x-python",
   "name": "python",
   "nbconvert_exporter": "python",
   "pygments_lexer": "ipython3",
   "version": "3.7.3"
  }
 },
 "nbformat": 4,
 "nbformat_minor": 2
}
