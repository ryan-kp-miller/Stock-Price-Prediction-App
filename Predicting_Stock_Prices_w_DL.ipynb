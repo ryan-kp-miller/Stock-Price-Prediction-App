{
 "cells": [
  {
   "cell_type": "markdown",
   "metadata": {},
   "source": [
    "# Predicting Stock Price using Deep Learning"
   ]
  },
  {
   "cell_type": "code",
   "execution_count": 5,
   "metadata": {},
   "outputs": [],
   "source": [
    "import numpy as np\n",
    "import pandas as pd\n",
    "import yfinance as yf\n",
    "import datetime as dt\n",
    "from indicators import *\n",
    "from tensorflow import keras\n",
    "import matplotlib.pyplot as plt\n",
    "from sklearn.preprocessing import StandardScaler\n",
    "from dateutil.relativedelta import relativedelta"
   ]
  },
  {
   "cell_type": "markdown",
   "metadata": {},
   "source": [
    "## Reading in the Stock Data"
   ]
  },
  {
   "cell_type": "code",
   "execution_count": 6,
   "metadata": {},
   "outputs": [],
   "source": [
    "#storing the symbols, starting and ending dates for training\n",
    "ticker = \"GOOG\"\n",
    "n_years = 10\n",
    "end_date =  dt.datetime.today()\n",
    "start_date = end_date - relativedelta(years=n_years)"
   ]
  },
  {
   "cell_type": "code",
   "execution_count": 7,
   "metadata": {},
   "outputs": [
    {
     "name": "stdout",
     "output_type": "stream",
     "text": [
      "[*********************100%***********************]  2 of 2 completed\n"
     ]
    },
    {
     "data": {
      "text/html": [
       "<div>\n",
       "<style scoped>\n",
       "    .dataframe tbody tr th:only-of-type {\n",
       "        vertical-align: middle;\n",
       "    }\n",
       "\n",
       "    .dataframe tbody tr th {\n",
       "        vertical-align: top;\n",
       "    }\n",
       "\n",
       "    .dataframe thead tr th {\n",
       "        text-align: left;\n",
       "    }\n",
       "\n",
       "    .dataframe thead tr:last-of-type th {\n",
       "        text-align: right;\n",
       "    }\n",
       "</style>\n",
       "<table border=\"1\" class=\"dataframe\">\n",
       "  <thead>\n",
       "    <tr>\n",
       "      <th></th>\n",
       "      <th colspan=\"2\" halign=\"left\">Close</th>\n",
       "      <th colspan=\"2\" halign=\"left\">High</th>\n",
       "      <th colspan=\"2\" halign=\"left\">Low</th>\n",
       "      <th colspan=\"2\" halign=\"left\">Open</th>\n",
       "      <th colspan=\"2\" halign=\"left\">Volume</th>\n",
       "    </tr>\n",
       "    <tr>\n",
       "      <th></th>\n",
       "      <th>GOOG</th>\n",
       "      <th>SPY</th>\n",
       "      <th>GOOG</th>\n",
       "      <th>SPY</th>\n",
       "      <th>GOOG</th>\n",
       "      <th>SPY</th>\n",
       "      <th>GOOG</th>\n",
       "      <th>SPY</th>\n",
       "      <th>GOOG</th>\n",
       "      <th>SPY</th>\n",
       "    </tr>\n",
       "    <tr>\n",
       "      <th>Date</th>\n",
       "      <th></th>\n",
       "      <th></th>\n",
       "      <th></th>\n",
       "      <th></th>\n",
       "      <th></th>\n",
       "      <th></th>\n",
       "      <th></th>\n",
       "      <th></th>\n",
       "      <th></th>\n",
       "      <th></th>\n",
       "    </tr>\n",
       "  </thead>\n",
       "  <tbody>\n",
       "    <tr>\n",
       "      <th>2010-03-01</th>\n",
       "      <td>265.350403</td>\n",
       "      <td>91.609451</td>\n",
       "      <td>265.649292</td>\n",
       "      <td>91.699514</td>\n",
       "      <td>262.884644</td>\n",
       "      <td>91.019953</td>\n",
       "      <td>263.611908</td>\n",
       "      <td>91.044515</td>\n",
       "      <td>4492500</td>\n",
       "      <td>147709700</td>\n",
       "    </tr>\n",
       "    <tr>\n",
       "      <th>2010-03-02</th>\n",
       "      <td>269.519775</td>\n",
       "      <td>91.863258</td>\n",
       "      <td>271.811188</td>\n",
       "      <td>92.305382</td>\n",
       "      <td>266.506073</td>\n",
       "      <td>91.699512</td>\n",
       "      <td>266.740204</td>\n",
       "      <td>92.002450</td>\n",
       "      <td>8746200</td>\n",
       "      <td>160992400</td>\n",
       "    </tr>\n",
       "    <tr>\n",
       "      <th>2010-03-03</th>\n",
       "      <td>271.641815</td>\n",
       "      <td>91.945145</td>\n",
       "      <td>273.036591</td>\n",
       "      <td>92.493703</td>\n",
       "      <td>268.618164</td>\n",
       "      <td>91.715891</td>\n",
       "      <td>270.167358</td>\n",
       "      <td>92.100702</td>\n",
       "      <td>6201800</td>\n",
       "      <td>150785000</td>\n",
       "    </tr>\n",
       "    <tr>\n",
       "      <th>2010-03-04</th>\n",
       "      <td>276.259521</td>\n",
       "      <td>92.223518</td>\n",
       "      <td>277.026642</td>\n",
       "      <td>92.354521</td>\n",
       "      <td>272.080170</td>\n",
       "      <td>91.724083</td>\n",
       "      <td>272.229614</td>\n",
       "      <td>92.067955</td>\n",
       "      <td>6391300</td>\n",
       "      <td>135770400</td>\n",
       "    </tr>\n",
       "    <tr>\n",
       "      <th>2010-03-05</th>\n",
       "      <td>281.051544</td>\n",
       "      <td>93.541718</td>\n",
       "      <td>282.775085</td>\n",
       "      <td>93.615402</td>\n",
       "      <td>278.904602</td>\n",
       "      <td>92.600159</td>\n",
       "      <td>279.626892</td>\n",
       "      <td>92.821223</td>\n",
       "      <td>7853700</td>\n",
       "      <td>176118800</td>\n",
       "    </tr>\n",
       "  </tbody>\n",
       "</table>\n",
       "</div>"
      ],
      "text/plain": [
       "                 Close                   High                    Low  \\\n",
       "                  GOOG        SPY        GOOG        SPY        GOOG   \n",
       "Date                                                                   \n",
       "2010-03-01  265.350403  91.609451  265.649292  91.699514  262.884644   \n",
       "2010-03-02  269.519775  91.863258  271.811188  92.305382  266.506073   \n",
       "2010-03-03  271.641815  91.945145  273.036591  92.493703  268.618164   \n",
       "2010-03-04  276.259521  92.223518  277.026642  92.354521  272.080170   \n",
       "2010-03-05  281.051544  93.541718  282.775085  93.615402  278.904602   \n",
       "\n",
       "                             Open              Volume             \n",
       "                  SPY        GOOG        SPY     GOOG        SPY  \n",
       "Date                                                              \n",
       "2010-03-01  91.019953  263.611908  91.044515  4492500  147709700  \n",
       "2010-03-02  91.699512  266.740204  92.002450  8746200  160992400  \n",
       "2010-03-03  91.715891  270.167358  92.100702  6201800  150785000  \n",
       "2010-03-04  91.724083  272.229614  92.067955  6391300  135770400  \n",
       "2010-03-05  92.600159  279.626892  92.821223  7853700  176118800  "
      ]
     },
     "execution_count": 7,
     "metadata": {},
     "output_type": "execute_result"
    }
   ],
   "source": [
    "#creating a list with the input symbol and \"SPY\" to pull in all days the stock market was open\n",
    "symbols = [ticker, \"SPY\"]\n",
    "\n",
    "#reading in the stock data (using adjusted stock prices to account for stock splits)\n",
    "df = yf.download(symbols, start=start_date, end=end_date, auto_adjust=True)\n",
    "\n",
    "df.head()"
   ]
  },
  {
   "cell_type": "code",
   "execution_count": 8,
   "metadata": {},
   "outputs": [
    {
     "data": {
      "text/html": [
       "<div>\n",
       "<style scoped>\n",
       "    .dataframe tbody tr th:only-of-type {\n",
       "        vertical-align: middle;\n",
       "    }\n",
       "\n",
       "    .dataframe tbody tr th {\n",
       "        vertical-align: top;\n",
       "    }\n",
       "\n",
       "    .dataframe thead th {\n",
       "        text-align: right;\n",
       "    }\n",
       "</style>\n",
       "<table border=\"1\" class=\"dataframe\">\n",
       "  <thead>\n",
       "    <tr style=\"text-align: right;\">\n",
       "      <th></th>\n",
       "      <th>GOOG</th>\n",
       "    </tr>\n",
       "    <tr>\n",
       "      <th>Date</th>\n",
       "      <th></th>\n",
       "    </tr>\n",
       "  </thead>\n",
       "  <tbody>\n",
       "    <tr>\n",
       "      <th>2010-03-01</th>\n",
       "      <td>265.350403</td>\n",
       "    </tr>\n",
       "    <tr>\n",
       "      <th>2010-03-02</th>\n",
       "      <td>269.519775</td>\n",
       "    </tr>\n",
       "    <tr>\n",
       "      <th>2010-03-03</th>\n",
       "      <td>271.641815</td>\n",
       "    </tr>\n",
       "    <tr>\n",
       "      <th>2010-03-04</th>\n",
       "      <td>276.259521</td>\n",
       "    </tr>\n",
       "    <tr>\n",
       "      <th>2010-03-05</th>\n",
       "      <td>281.051544</td>\n",
       "    </tr>\n",
       "  </tbody>\n",
       "</table>\n",
       "</div>"
      ],
      "text/plain": [
       "                  GOOG\n",
       "Date                  \n",
       "2010-03-01  265.350403\n",
       "2010-03-02  269.519775\n",
       "2010-03-03  271.641815\n",
       "2010-03-04  276.259521\n",
       "2010-03-05  281.051544"
      ]
     },
     "execution_count": 8,
     "metadata": {},
     "output_type": "execute_result"
    }
   ],
   "source": [
    "#only keeping Adjusted Closing Stock Price for Google\n",
    "prices = df['Close'].filter(items=[ticker], axis=1)\n",
    "\n",
    "#forward and back filling missing prices \n",
    "prices.fillna(method='ffill', inplace=True) #forward-filling missing prices\n",
    "prices.fillna(method='bfill', inplace=True) #back-filling missing prices\n",
    "\n",
    "prices.head()"
   ]
  },
  {
   "cell_type": "code",
   "execution_count": 9,
   "metadata": {
    "scrolled": true
   },
   "outputs": [
    {
     "data": {
      "image/png": "[encoded data removed]",
      "text/plain": [
       "<Figure size 432x288 with 1 Axes>"
      ]
     },
     "metadata": {
      "needs_background": "light"
     },
     "output_type": "display_data"
    }
   ],
   "source": [
    "#plotting the adjusted closing prices\n",
    "prices.plot()\n",
    "plt.title(\"{} Adjusted Closing Prices for last {} Years\".format(ticker,n_years))\n",
    "plt.ylabel(\"Price\")\n",
    "plt.show()"
   ]
  },
  {
   "cell_type": "code",
   "execution_count": 10,
   "metadata": {},
   "outputs": [],
   "source": [
    "#indicator functions\n",
    "def generate_indicators(prices, n):\n",
    "    #generating price Simple Moving Average ratio\n",
    "    price_sma_df = price_sma_ratio(prices, n)\n",
    "\n",
    "    #generating the Bollinger Bands indicator\n",
    "    bb_df = bollinger_bands(prices, n)\n",
    "\n",
    "    #generating the volatility indicator\n",
    "    vol_df = volatility(prices, n)\n",
    "    \n",
    "    #creating features dataframe for training the regressor\n",
    "    indicator_names = [\"Price/SMA\", \"Bollinger Bands\", \"Volatility\"]\n",
    "    indicators_df = price_sma_df.join(bb_df,rsuffix=\"1\") \\\n",
    "                                .join(vol_df,rsuffix=\"2\")\n",
    "    indicators_df.columns = indicator_names\n",
    "\n",
    "    #adding column for the closing price one day prior\n",
    "    indicators_df[\"Previous Price\"] = prices.shift(1).values\n",
    "\n",
    "    #backfilling indicators\n",
    "    indicators_df.fillna(method='bfill', inplace=True)\n",
    "    \n",
    "    return indicators_df"
   ]
  },
  {
   "cell_type": "code",
   "execution_count": 11,
   "metadata": {},
   "outputs": [
    {
     "data": {
      "text/html": [
       "<div>\n",
       "<style scoped>\n",
       "    .dataframe tbody tr th:only-of-type {\n",
       "        vertical-align: middle;\n",
       "    }\n",
       "\n",
       "    .dataframe tbody tr th {\n",
       "        vertical-align: top;\n",
       "    }\n",
       "\n",
       "    .dataframe thead th {\n",
       "        text-align: right;\n",
       "    }\n",
       "</style>\n",
       "<table border=\"1\" class=\"dataframe\">\n",
       "  <thead>\n",
       "    <tr style=\"text-align: right;\">\n",
       "      <th></th>\n",
       "      <th>Price/SMA</th>\n",
       "      <th>Bollinger Bands</th>\n",
       "      <th>Volatility</th>\n",
       "      <th>Previous Price</th>\n",
       "    </tr>\n",
       "    <tr>\n",
       "      <th>Date</th>\n",
       "      <th></th>\n",
       "      <th></th>\n",
       "      <th></th>\n",
       "      <th></th>\n",
       "    </tr>\n",
       "  </thead>\n",
       "  <tbody>\n",
       "    <tr>\n",
       "      <th>2010-03-01</th>\n",
       "      <td>0.031737</td>\n",
       "      <td>-0.120261</td>\n",
       "      <td>-0.210546</td>\n",
       "      <td>-1.132074</td>\n",
       "    </tr>\n",
       "    <tr>\n",
       "      <th>2010-03-02</th>\n",
       "      <td>0.031737</td>\n",
       "      <td>-0.120261</td>\n",
       "      <td>-0.210546</td>\n",
       "      <td>-1.132074</td>\n",
       "    </tr>\n",
       "    <tr>\n",
       "      <th>2010-03-03</th>\n",
       "      <td>0.031737</td>\n",
       "      <td>-0.120261</td>\n",
       "      <td>-0.210546</td>\n",
       "      <td>-1.114456</td>\n",
       "    </tr>\n",
       "    <tr>\n",
       "      <th>2010-03-04</th>\n",
       "      <td>0.031737</td>\n",
       "      <td>-0.120261</td>\n",
       "      <td>-0.210546</td>\n",
       "      <td>-1.105489</td>\n",
       "    </tr>\n",
       "    <tr>\n",
       "      <th>2010-03-05</th>\n",
       "      <td>0.031737</td>\n",
       "      <td>-0.120261</td>\n",
       "      <td>-0.210546</td>\n",
       "      <td>-1.085977</td>\n",
       "    </tr>\n",
       "  </tbody>\n",
       "</table>\n",
       "</div>"
      ],
      "text/plain": [
       "            Price/SMA  Bollinger Bands  Volatility  Previous Price\n",
       "Date                                                              \n",
       "2010-03-01   0.031737        -0.120261   -0.210546       -1.132074\n",
       "2010-03-02   0.031737        -0.120261   -0.210546       -1.132074\n",
       "2010-03-03   0.031737        -0.120261   -0.210546       -1.114456\n",
       "2010-03-04   0.031737        -0.120261   -0.210546       -1.105489\n",
       "2010-03-05   0.031737        -0.120261   -0.210546       -1.085977"
      ]
     },
     "execution_count": 11,
     "metadata": {},
     "output_type": "execute_result"
    }
   ],
   "source": [
    "#splitting the prices into train and test sets\n",
    "ss = StandardScaler()\n",
    "cutoff_idx = int(prices.shape[0] * 0.8)\n",
    "y_train = pd.DataFrame(ss.fit_transform(prices[:cutoff_idx]),index=prices.index[:cutoff_idx], columns=[ticker])\n",
    "y_test = pd.DataFrame(ss.fit_transform(prices[cutoff_idx:]),index=prices.index[cutoff_idx:], columns=[ticker])\n",
    "\n",
    "#generating the indicators\n",
    "n = 10\n",
    "x_train = generate_indicators(y_train, n)\n",
    "x_test = generate_indicators(y_test, n)\n",
    "\n",
    "x_train.head()"
   ]
  },
  {
   "cell_type": "markdown",
   "metadata": {},
   "source": [
    "## Creating the Model"
   ]
  },
  {
   "cell_type": "code",
   "execution_count": 12,
   "metadata": {},
   "outputs": [],
   "source": [
    "#initializing the model\n",
    "model = keras.Sequential([\n",
    "    keras.layers.Dense(128, input_dim=x_train.shape[1], activation='relu'), \n",
    "    keras.layers.Dropout(0.3),\n",
    "    keras.layers.Dense(32,activation='relu'),\n",
    "    keras.layers.Dropout(0.15),\n",
    "    keras.layers.Dense(1)   \n",
    "])"
   ]
  },
  {
   "cell_type": "code",
   "execution_count": 13,
   "metadata": {},
   "outputs": [
    {
     "name": "stdout",
     "output_type": "stream",
     "text": [
      "Model: \"sequential\"\n",
      "_________________________________________________________________\n",
      "Layer (type)                 Output Shape              Param #   \n",
      "=================================================================\n",
      "dense (Dense)                (None, 128)               640       \n",
      "_________________________________________________________________\n",
      "dropout (Dropout)            (None, 128)               0         \n",
      "_________________________________________________________________\n",
      "dense_1 (Dense)              (None, 32)                4128      \n",
      "_________________________________________________________________\n",
      "dropout_1 (Dropout)          (None, 32)                0         \n",
      "_________________________________________________________________\n",
      "dense_2 (Dense)              (None, 1)                 33        \n",
      "=================================================================\n",
      "Total params: 4,801\n",
      "Trainable params: 4,801\n",
      "Non-trainable params: 0\n",
      "_________________________________________________________________\n"
     ]
    }
   ],
   "source": [
    "#printing the model summary\n",
    "model.summary()"
   ]
  },
  {
   "cell_type": "code",
   "execution_count": 14,
   "metadata": {},
   "outputs": [],
   "source": [
    "#compiling the model\n",
    "model.compile(optimizer='adam', loss='mean_squared_error', metrics=['mean_absolute_error'])"
   ]
  },
  {
   "cell_type": "code",
   "execution_count": 15,
   "metadata": {
    "scrolled": true
   },
   "outputs": [
    {
     "name": "stdout",
     "output_type": "stream",
     "text": [
      "Train on 2014 samples\n",
      "Epoch 1/100\n",
      "2014/2014 [==============================] - 0s 234us/sample - loss: 0.2269 - mean_absolute_error: 0.3263\n",
      "Epoch 2/100\n",
      "2014/2014 [==============================] - 0s 39us/sample - loss: 0.0634 - mean_absolute_error: 0.1792\n",
      "Epoch 3/100\n",
      "2014/2014 [==============================] - 0s 39us/sample - loss: 0.0670 - mean_absolute_error: 0.1735\n",
      "Epoch 4/100\n",
      "2014/2014 [==============================] - 0s 41us/sample - loss: 0.0634 - mean_absolute_error: 0.1593\n",
      "Epoch 5/100\n",
      "2014/2014 [==============================] - 0s 39us/sample - loss: 0.0596 - mean_absolute_error: 0.1484\n",
      "Epoch 6/100\n",
      "2014/2014 [==============================] - 0s 38us/sample - loss: 0.0451 - mean_absolute_error: 0.1460\n",
      "Epoch 7/100\n",
      "2014/2014 [==============================] - ETA: 0s - loss: 0.0454 - mean_absolute_error: 0.141 - 0s 40us/sample - loss: 0.0432 - mean_absolute_error: 0.1384\n",
      "Epoch 8/100\n",
      "2014/2014 [==============================] - 0s 41us/sample - loss: 0.0401 - mean_absolute_error: 0.1340\n",
      "Epoch 9/100\n",
      "2014/2014 [==============================] - 0s 39us/sample - loss: 0.0391 - mean_absolute_error: 0.1323\n",
      "Epoch 10/100\n",
      "2014/2014 [==============================] - 0s 40us/sample - loss: 0.0376 - mean_absolute_error: 0.1302\n",
      "Epoch 11/100\n",
      "2014/2014 [==============================] - 0s 39us/sample - loss: 0.0354 - mean_absolute_error: 0.1275\n",
      "Epoch 12/100\n",
      "2014/2014 [==============================] - 0s 39us/sample - loss: 0.0293 - mean_absolute_error: 0.1209\n",
      "Epoch 13/100\n",
      "2014/2014 [==============================] - 0s 39us/sample - loss: 0.0287 - mean_absolute_error: 0.1211\n",
      "Epoch 14/100\n",
      "2014/2014 [==============================] - 0s 38us/sample - loss: 0.0273 - mean_absolute_error: 0.1157\n",
      "Epoch 15/100\n",
      "2014/2014 [==============================] - 0s 39us/sample - loss: 0.0298 - mean_absolute_error: 0.1148\n",
      "Epoch 16/100\n",
      "2014/2014 [==============================] - 0s 39us/sample - loss: 0.0273 - mean_absolute_error: 0.1142\n",
      "Epoch 17/100\n",
      "2014/2014 [==============================] - 0s 38us/sample - loss: 0.0274 - mean_absolute_error: 0.1156\n",
      "Epoch 18/100\n",
      "2014/2014 [==============================] - 0s 38us/sample - loss: 0.0225 - mean_absolute_error: 0.1067\n",
      "Epoch 19/100\n",
      "2014/2014 [==============================] - 0s 38us/sample - loss: 0.0243 - mean_absolute_error: 0.1077\n",
      "Epoch 20/100\n",
      "2014/2014 [==============================] - 0s 36us/sample - loss: 0.0253 - mean_absolute_error: 0.1098\n",
      "Epoch 21/100\n",
      "2014/2014 [==============================] - 0s 40us/sample - loss: 0.0231 - mean_absolute_error: 0.1079\n",
      "Epoch 22/100\n",
      "2014/2014 [==============================] - 0s 36us/sample - loss: 0.0246 - mean_absolute_error: 0.1068\n",
      "Epoch 23/100\n",
      "2014/2014 [==============================] - 0s 38us/sample - loss: 0.0218 - mean_absolute_error: 0.1045\n",
      "Epoch 24/100\n",
      "2014/2014 [==============================] - 0s 38us/sample - loss: 0.0230 - mean_absolute_error: 0.1042\n",
      "Epoch 25/100\n",
      "2014/2014 [==============================] - 0s 38us/sample - loss: 0.0218 - mean_absolute_error: 0.1043\n",
      "Epoch 26/100\n",
      "2014/2014 [==============================] - 0s 37us/sample - loss: 0.0195 - mean_absolute_error: 0.0993\n",
      "Epoch 27/100\n",
      "2014/2014 [==============================] - 0s 39us/sample - loss: 0.0198 - mean_absolute_error: 0.0988\n",
      "Epoch 28/100\n",
      "2014/2014 [==============================] - 0s 38us/sample - loss: 0.0211 - mean_absolute_error: 0.1023\n",
      "Epoch 29/100\n",
      "2014/2014 [==============================] - 0s 38us/sample - loss: 0.0212 - mean_absolute_error: 0.1042\n",
      "Epoch 30/100\n",
      "2014/2014 [==============================] - 0s 38us/sample - loss: 0.0207 - mean_absolute_error: 0.1015\n",
      "Epoch 31/100\n",
      "2014/2014 [==============================] - 0s 38us/sample - loss: 0.0192 - mean_absolute_error: 0.0979\n",
      "Epoch 32/100\n",
      "2014/2014 [==============================] - ETA: 0s - loss: 0.0200 - mean_absolute_error: 0.101 - 0s 37us/sample - loss: 0.0206 - mean_absolute_error: 0.1020\n",
      "Epoch 33/100\n",
      "2014/2014 [==============================] - 0s 38us/sample - loss: 0.0193 - mean_absolute_error: 0.0993\n",
      "Epoch 34/100\n",
      "2014/2014 [==============================] - 0s 39us/sample - loss: 0.0203 - mean_absolute_error: 0.1006\n",
      "Epoch 35/100\n",
      "2014/2014 [==============================] - 0s 38us/sample - loss: 0.0189 - mean_absolute_error: 0.0979\n",
      "Epoch 36/100\n",
      "2014/2014 [==============================] - 0s 38us/sample - loss: 0.0186 - mean_absolute_error: 0.0994\n",
      "Epoch 37/100\n",
      "2014/2014 [==============================] - 0s 38us/sample - loss: 0.0187 - mean_absolute_error: 0.0973\n",
      "Epoch 38/100\n",
      "2014/2014 [==============================] - 0s 38us/sample - loss: 0.0204 - mean_absolute_error: 0.1002\n",
      "Epoch 39/100\n",
      "2014/2014 [==============================] - 0s 37us/sample - loss: 0.0181 - mean_absolute_error: 0.0961\n",
      "Epoch 40/100\n",
      "2014/2014 [==============================] - 0s 38us/sample - loss: 0.0184 - mean_absolute_error: 0.0958\n",
      "Epoch 41/100\n",
      "2014/2014 [==============================] - 0s 39us/sample - loss: 0.0181 - mean_absolute_error: 0.0944\n",
      "Epoch 42/100\n",
      "2014/2014 [==============================] - 0s 38us/sample - loss: 0.0182 - mean_absolute_error: 0.0982\n",
      "Epoch 43/100\n",
      "2014/2014 [==============================] - 0s 38us/sample - loss: 0.0188 - mean_absolute_error: 0.09700s - loss: 0.0182 - mean_absolute_error: 0.095\n",
      "Epoch 44/100\n",
      "2014/2014 [==============================] - 0s 39us/sample - loss: 0.0199 - mean_absolute_error: 0.0988\n",
      "Epoch 45/100\n",
      "2014/2014 [==============================] - 0s 38us/sample - loss: 0.0186 - mean_absolute_error: 0.0975\n",
      "Epoch 46/100\n",
      "2014/2014 [==============================] - 0s 36us/sample - loss: 0.0188 - mean_absolute_error: 0.0974\n",
      "Epoch 47/100\n",
      "2014/2014 [==============================] - 0s 40us/sample - loss: 0.0196 - mean_absolute_error: 0.0971\n",
      "Epoch 48/100\n",
      "2014/2014 [==============================] - 0s 36us/sample - loss: 0.0210 - mean_absolute_error: 0.1022\n",
      "Epoch 49/100\n",
      "2014/2014 [==============================] - 0s 37us/sample - loss: 0.0191 - mean_absolute_error: 0.0993\n",
      "Epoch 50/100\n",
      "2014/2014 [==============================] - 0s 39us/sample - loss: 0.0169 - mean_absolute_error: 0.0926\n",
      "Epoch 51/100\n",
      "2014/2014 [==============================] - 0s 37us/sample - loss: 0.0177 - mean_absolute_error: 0.0950\n",
      "Epoch 52/100\n",
      "2014/2014 [==============================] - 0s 38us/sample - loss: 0.0176 - mean_absolute_error: 0.0945\n",
      "Epoch 53/100\n",
      "2014/2014 [==============================] - 0s 38us/sample - loss: 0.0189 - mean_absolute_error: 0.0972\n",
      "Epoch 54/100\n",
      "2014/2014 [==============================] - 0s 38us/sample - loss: 0.0182 - mean_absolute_error: 0.0963\n",
      "Epoch 55/100\n",
      "2014/2014 [==============================] - 0s 39us/sample - loss: 0.0177 - mean_absolute_error: 0.09440s - loss: 0.0173 - mean_absolute_error: 0.093\n",
      "Epoch 56/100\n",
      "2014/2014 [==============================] - 0s 37us/sample - loss: 0.0180 - mean_absolute_error: 0.0966\n",
      "Epoch 57/100\n",
      "2014/2014 [==============================] - 0s 38us/sample - loss: 0.0188 - mean_absolute_error: 0.0974\n",
      "Epoch 58/100\n",
      "2014/2014 [==============================] - 0s 38us/sample - loss: 0.0207 - mean_absolute_error: 0.1016\n",
      "Epoch 59/100\n",
      "2014/2014 [==============================] - 0s 38us/sample - loss: 0.0173 - mean_absolute_error: 0.0949\n",
      "Epoch 60/100\n",
      "2014/2014 [==============================] - 0s 38us/sample - loss: 0.0193 - mean_absolute_error: 0.0982\n",
      "Epoch 61/100\n",
      "2014/2014 [==============================] - 0s 38us/sample - loss: 0.0192 - mean_absolute_error: 0.0980\n",
      "Epoch 62/100\n",
      "2014/2014 [==============================] - 0s 40us/sample - loss: 0.0174 - mean_absolute_error: 0.0958\n",
      "Epoch 63/100\n",
      "2014/2014 [==============================] - 0s 39us/sample - loss: 0.0176 - mean_absolute_error: 0.0962\n",
      "Epoch 64/100\n",
      "2014/2014 [==============================] - 0s 38us/sample - loss: 0.0183 - mean_absolute_error: 0.0964\n",
      "Epoch 65/100\n",
      "2014/2014 [==============================] - 0s 38us/sample - loss: 0.0154 - mean_absolute_error: 0.0909\n",
      "Epoch 66/100\n",
      "2014/2014 [==============================] - 0s 39us/sample - loss: 0.0177 - mean_absolute_error: 0.0969\n",
      "Epoch 67/100\n",
      "2014/2014 [==============================] - 0s 39us/sample - loss: 0.0176 - mean_absolute_error: 0.0952\n",
      "Epoch 68/100\n"
     ]
    },
    {
     "name": "stdout",
     "output_type": "stream",
     "text": [
      "2014/2014 [==============================] - 0s 37us/sample - loss: 0.0177 - mean_absolute_error: 0.0961\n",
      "Epoch 69/100\n",
      "2014/2014 [==============================] - 0s 39us/sample - loss: 0.0170 - mean_absolute_error: 0.0938\n",
      "Epoch 70/100\n",
      "2014/2014 [==============================] - 0s 37us/sample - loss: 0.0182 - mean_absolute_error: 0.0960\n",
      "Epoch 71/100\n",
      "2014/2014 [==============================] - 0s 37us/sample - loss: 0.0179 - mean_absolute_error: 0.0956\n",
      "Epoch 72/100\n",
      "2014/2014 [==============================] - 0s 35us/sample - loss: 0.0175 - mean_absolute_error: 0.0937\n",
      "Epoch 73/100\n",
      "2014/2014 [==============================] - 0s 36us/sample - loss: 0.0190 - mean_absolute_error: 0.0974\n",
      "Epoch 74/100\n",
      "2014/2014 [==============================] - 0s 31us/sample - loss: 0.0176 - mean_absolute_error: 0.0947\n",
      "Epoch 75/100\n",
      "2014/2014 [==============================] - 0s 44us/sample - loss: 0.0171 - mean_absolute_error: 0.0936\n",
      "Epoch 76/100\n",
      "2014/2014 [==============================] - 0s 39us/sample - loss: 0.0159 - mean_absolute_error: 0.0915\n",
      "Epoch 77/100\n",
      "2014/2014 [==============================] - 0s 39us/sample - loss: 0.0172 - mean_absolute_error: 0.0938\n",
      "Epoch 78/100\n",
      "2014/2014 [==============================] - 0s 38us/sample - loss: 0.0170 - mean_absolute_error: 0.0933\n",
      "Epoch 79/100\n",
      "2014/2014 [==============================] - 0s 37us/sample - loss: 0.0173 - mean_absolute_error: 0.0947\n",
      "Epoch 80/100\n",
      "2014/2014 [==============================] - 0s 37us/sample - loss: 0.0172 - mean_absolute_error: 0.0937\n",
      "Epoch 81/100\n",
      "2014/2014 [==============================] - 0s 37us/sample - loss: 0.0169 - mean_absolute_error: 0.0938\n",
      "Epoch 82/100\n",
      "2014/2014 [==============================] - 0s 38us/sample - loss: 0.0180 - mean_absolute_error: 0.0967\n",
      "Epoch 83/100\n",
      "2014/2014 [==============================] - 0s 36us/sample - loss: 0.0180 - mean_absolute_error: 0.0966\n",
      "Epoch 84/100\n",
      "2014/2014 [==============================] - 0s 39us/sample - loss: 0.0175 - mean_absolute_error: 0.0958\n",
      "Epoch 85/100\n",
      "2014/2014 [==============================] - 0s 37us/sample - loss: 0.0197 - mean_absolute_error: 0.0997\n",
      "Epoch 86/100\n",
      "2014/2014 [==============================] - 0s 37us/sample - loss: 0.0185 - mean_absolute_error: 0.0967\n",
      "Epoch 87/100\n",
      "2014/2014 [==============================] - 0s 38us/sample - loss: 0.0173 - mean_absolute_error: 0.0942\n",
      "Epoch 88/100\n",
      "2014/2014 [==============================] - 0s 38us/sample - loss: 0.0174 - mean_absolute_error: 0.0936\n",
      "Epoch 89/100\n",
      "2014/2014 [==============================] - 0s 37us/sample - loss: 0.0162 - mean_absolute_error: 0.0927\n",
      "Epoch 90/100\n",
      "2014/2014 [==============================] - 0s 38us/sample - loss: 0.0167 - mean_absolute_error: 0.0946\n",
      "Epoch 91/100\n",
      "2014/2014 [==============================] - 0s 38us/sample - loss: 0.0170 - mean_absolute_error: 0.0937\n",
      "Epoch 92/100\n",
      "2014/2014 [==============================] - 0s 37us/sample - loss: 0.0175 - mean_absolute_error: 0.0960\n",
      "Epoch 93/100\n",
      "2014/2014 [==============================] - 0s 38us/sample - loss: 0.0177 - mean_absolute_error: 0.0975\n",
      "Epoch 94/100\n",
      "2014/2014 [==============================] - 0s 37us/sample - loss: 0.0162 - mean_absolute_error: 0.0917\n",
      "Epoch 95/100\n",
      "2014/2014 [==============================] - 0s 39us/sample - loss: 0.0162 - mean_absolute_error: 0.0930\n",
      "Epoch 96/100\n",
      "2014/2014 [==============================] - 0s 55us/sample - loss: 0.0151 - mean_absolute_error: 0.0887\n",
      "Epoch 97/100\n",
      "2014/2014 [==============================] - 0s 38us/sample - loss: 0.0167 - mean_absolute_error: 0.0931\n",
      "Epoch 98/100\n",
      "2014/2014 [==============================] - 0s 36us/sample - loss: 0.0168 - mean_absolute_error: 0.0949\n",
      "Epoch 99/100\n",
      "2014/2014 [==============================] - 0s 36us/sample - loss: 0.0162 - mean_absolute_error: 0.0925\n",
      "Epoch 100/100\n",
      "2014/2014 [==============================] - 0s 29us/sample - loss: 0.0170 - mean_absolute_error: 0.0929\n"
     ]
    }
   ],
   "source": [
    "history = model.fit(x_train, y_train, epochs=100)"
   ]
  },
  {
   "cell_type": "code",
   "execution_count": 16,
   "metadata": {},
   "outputs": [
    {
     "name": "stdout",
     "output_type": "stream",
     "text": [
      "504/504 [==============================] - 0s 134us/sample - loss: 0.0238 - mean_absolute_error: 0.1093\n"
     ]
    },
    {
     "data": {
      "text/plain": [
       "[0.02380956928171809, 0.10934366]"
      ]
     },
     "execution_count": 16,
     "metadata": {},
     "output_type": "execute_result"
    }
   ],
   "source": [
    "model.evaluate(x_test, y_test)"
   ]
  },
  {
   "cell_type": "code",
   "execution_count": 17,
   "metadata": {},
   "outputs": [
    {
     "data": {
      "image/png": "[encoded data removed]",
      "text/plain": [
       "<Figure size 432x288 with 1 Axes>"
      ]
     },
     "metadata": {
      "needs_background": "light"
     },
     "output_type": "display_data"
    }
   ],
   "source": [
    "#plotting the predicted and actual normalized test prices\n",
    "y_pred = model.predict(x_test)\n",
    "plt.plot(y_test.index, y_pred,  label=\"Predicted\")\n",
    "plt.plot(y_test.index, y_test, label=\"Actual\")\n",
    "plt.title(\"Predicted vs Actual Prices\")\n",
    "plt.ylabel(\"Normalized Price\")\n",
    "plt.xlabel(\"Date\")\n",
    "plt.legend()\n",
    "plt.show()"
   ]
  },
  {
   "cell_type": "code",
   "execution_count": 18,
   "metadata": {},
   "outputs": [
    {
     "name": "stdout",
     "output_type": "stream",
     "text": [
      "Mean Absolute Error of Stock Prices: $124.74\n"
     ]
    }
   ],
   "source": [
    "#calculating the Mean Absolute Error of the non-normalized prices\n",
    "pred_prices = ss.inverse_transform(y_pred)\n",
    "act_prices = prices[cutoff_idx:]\n",
    "abs_diff = np.abs(pred_prices.flatten() - act_prices.values)\n",
    "mae = np.mean(abs_diff)\n",
    "\n",
    "print(\"Mean Absolute Error of Stock Prices: ${:,.2f}\".format(mae))"
   ]
  },
  {
   "cell_type": "markdown",
   "metadata": {},
   "source": [
    "## Closing Remarks\n",
    "Even though the plot and Mean Absolute Error look great, I would still hesitate to use this model for making stock trading decisions. The main reason the predicted price closely follows the actual price is because the previous day's stock price is included as an input in the model. I decided to include this because, if I were to actually use this model to make decisions, I would use the model along with my MLTrader in my Stock Price Prediction App to make **daily** buy/sell decisions automatically each morning, so I would already know the closing price from the previous day.     \n",
    "  \n",
    "My plan in the future is to backtest the model with that objective in mind to see if I could fully automate my stock trading decisions."
   ]
  }
 ],
 "metadata": {
  "kernelspec": {
   "display_name": "Python 3",
   "language": "python",
   "name": "python3"
  },
  "language_info": {
   "codemirror_mode": {
    "name": "ipython",
    "version": 3
   },
   "file_extension": ".py",
   "mimetype": "text/x-python",
   "name": "python",
   "nbconvert_exporter": "python",
   "pygments_lexer": "ipython3",
   "version": "3.7.6"
  }
 },
 "nbformat": 4,
 "nbformat_minor": 2
}
