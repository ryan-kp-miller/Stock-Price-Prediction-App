{
 "cells": [
  {
   "cell_type": "code",
   "execution_count": 45,
   "metadata": {},
   "outputs": [],
   "source": [
    "import numpy as np\n",
    "import pandas as pd\n",
    "import yfinance as yf\n",
    "from indicators import *\n",
    "from sklearn.linear_model import Ridge\n",
    "from sklearn.preprocessing import StandardScaler\n",
    "from sklearn.preprocessing import PolynomialFeatures\n",
    "from sklearn.pipeline import make_pipeline\n",
    "import matplotlib.pyplot as plt"
   ]
  },
  {
   "cell_type": "code",
   "execution_count": 216,
   "metadata": {},
   "outputs": [],
   "source": [
    "def pull_prices(symbol, sd, ed):\n",
    "    \"\"\"\n",
    "        helper method for reading in and preprocessing the prices data\n",
    "\n",
    "        inputs:\n",
    "            symbol: string representing the stock symbol for trading\n",
    "            sd:     string representing the date to start trading\n",
    "            ed:     string representing the date to stop trading\n",
    "\n",
    "        output:\n",
    "            prices: dataframe containing the preprocessed daily price data\n",
    "                    for the given stock\n",
    "    \"\"\"\n",
    "    #reading in the stock data using util.py and removing nulls\n",
    "    df = yf.download(symbol, start=sd, end=ed,\n",
    "                     group_by=\"ticker\", auto_adjust=True)\n",
    "    prices = df.filter(items=['Close'],axis=1)\n",
    "    prices.columns = [symbol]\n",
    "    prices.fillna(method='ffill', inplace=True) #forward-filling missing prices\n",
    "    prices.fillna(method='bfill', inplace=True) #back-filling missing prices\n",
    "    return prices"
   ]
  },
  {
   "cell_type": "code",
   "execution_count": 189,
   "metadata": {},
   "outputs": [],
   "source": [
    "def generate_indicators(prices, n):\n",
    "    \"\"\"\n",
    "        helper method for generating features dataframe containing the\n",
    "        training indicators\n",
    "\n",
    "        inputs:\n",
    "            prices:        dataframe containing the daily prices of a stock\n",
    "            n:             integer representing the window for the stock price \n",
    "                           indicators\n",
    "\n",
    "        output:\n",
    "            indicators_df: dataframe containing the Price/SMA Ratio,\n",
    "                           Bollinger Bands, and Volatility of the daily\n",
    "                           stock prices\n",
    "    \"\"\"\n",
    "    #creating the indicator dfs\n",
    "    price_sma_df = price_sma_ratio(prices, n)\n",
    "    bb_df = bollinger_bands(prices, n)\n",
    "    vol_df = volatility(prices, n)\n",
    "\n",
    "    #creating features dataframe for training the regressor\n",
    "    indicators_df = price_sma_df.join(bb_df,rsuffix=\"1\").join(vol_df,rsuffix=\"2\")\n",
    "    indicators_df.columns = [\"Price/SMA\", \"Bollinger Bands\", \"Volatility\"]\n",
    "    \n",
    "    #adding column for the previous days closing prices\n",
    "    indicators_df[\"Previous Price\"] = prices.shift(2).values\n",
    "    \n",
    "    return indicators_df"
   ]
  },
  {
   "cell_type": "code",
   "execution_count": 190,
   "metadata": {},
   "outputs": [],
   "source": [
    "def test_code(learner, orders_sl_df, sd, ed, symbol, sv, plot_title, plot_indicators_bool = False):\n",
    "    #reading in SPY prices over the in-sample date range\n",
    "    prices = learner.preprocess_data(symbol, sd, ed)\n",
    "    #test trades using marketsimcode\n",
    "    portvals_sl = compute_portvals(orders_sl_df, start_val = sv, commission=0.0, impact=0.005)\n",
    "\n",
    "    prices['Strategy Learner'] = portvals_sl\n",
    "    prices['Predicted Price'] = learner.prices_pred\n",
    "    plot_winnings(prices, plot_title, [\"Strategy Learner\",\n",
    "                  \"Prices\"], [], [])\n",
    "    adr,sddr,cr = port_stats(portvals_sl)\n",
    "\n",
    "    #if plot_indicators_bool == True, then plotting the indicator graphs\n",
    "    if plot_indicators_bool:\n",
    "        price_sma_plot(prices, n = 10)\n",
    "        bb_plot(prices, n = 10)\n",
    "        volatility_plot(prices, n = 10)\n",
    "\n",
    "    # Print statistics\n",
    "    print(f\"Start Date: {sd}\")\n",
    "    print(f\"End Date: {ed}\")\n",
    "    print(f\"Symbol: {symbol}\")\n",
    "    \n",
    "    print(f\"SL: Std Dev of Daily Returns: %.5f\"%sddr)\n",
    "    print(f\"SL: Average Daily Return: %.5f\"%adr)\n",
    "    print(f\"SL: Cumulative Return: %.5f\"%cr)"
   ]
  },
  {
   "cell_type": "markdown",
   "metadata": {},
   "source": [
    "## In-Sample Period"
   ]
  },
  {
   "cell_type": "code",
   "execution_count": 229,
   "metadata": {
    "collapsed": true
   },
   "outputs": [
    {
     "name": "stderr",
     "output_type": "stream",
     "text": [
      "Exception in thread Thread-36:\n",
      "Traceback (most recent call last):\n",
      "  File \"C:\\Users\\ord-ryanmi\\AppData\\Local\\Continuum\\anaconda3\\lib\\site-packages\\urllib3\\contrib\\pyopenssl.py\", line 453, in wrap_socket\n",
      "    cnx.do_handshake()\n",
      "  File \"C:\\Users\\ord-ryanmi\\AppData\\Local\\Continuum\\anaconda3\\lib\\site-packages\\OpenSSL\\SSL.py\", line 1915, in do_handshake\n",
      "    self._raise_ssl_error(self._ssl, result)\n",
      "  File \"C:\\Users\\ord-ryanmi\\AppData\\Local\\Continuum\\anaconda3\\lib\\site-packages\\OpenSSL\\SSL.py\", line 1647, in _raise_ssl_error\n",
      "    _raise_current_error()\n",
      "  File \"C:\\Users\\ord-ryanmi\\AppData\\Local\\Continuum\\anaconda3\\lib\\site-packages\\OpenSSL\\_util.py\", line 54, in exception_from_error_queue\n",
      "    raise exception_type(errors)\n",
      "OpenSSL.SSL.Error: [('SSL routines', 'tls_process_server_certificate', 'certificate verify failed')]\n",
      "\n",
      "During handling of the above exception, another exception occurred:\n",
      "\n",
      "Traceback (most recent call last):\n",
      "  File \"C:\\Users\\ord-ryanmi\\AppData\\Local\\Continuum\\anaconda3\\lib\\site-packages\\urllib3\\connectionpool.py\", line 600, in urlopen\n",
      "    chunked=chunked)\n",
      "  File \"C:\\Users\\ord-ryanmi\\AppData\\Local\\Continuum\\anaconda3\\lib\\site-packages\\urllib3\\connectionpool.py\", line 343, in _make_request\n",
      "    self._validate_conn(conn)\n",
      "  File \"C:\\Users\\ord-ryanmi\\AppData\\Local\\Continuum\\anaconda3\\lib\\site-packages\\urllib3\\connectionpool.py\", line 839, in _validate_conn\n",
      "    conn.connect()\n",
      "  File \"C:\\Users\\ord-ryanmi\\AppData\\Local\\Continuum\\anaconda3\\lib\\site-packages\\urllib3\\connection.py\", line 344, in connect\n",
      "    ssl_context=context)\n",
      "  File \"C:\\Users\\ord-ryanmi\\AppData\\Local\\Continuum\\anaconda3\\lib\\site-packages\\urllib3\\util\\ssl_.py\", line 344, in ssl_wrap_socket\n",
      "    return context.wrap_socket(sock, server_hostname=server_hostname)\n",
      "  File \"C:\\Users\\ord-ryanmi\\AppData\\Local\\Continuum\\anaconda3\\lib\\site-packages\\urllib3\\contrib\\pyopenssl.py\", line 459, in wrap_socket\n",
      "    raise ssl.SSLError('bad handshake: %r' % e)\n",
      "ssl.SSLError: (\"bad handshake: Error([('SSL routines', 'tls_process_server_certificate', 'certificate verify failed')])\",)\n",
      "\n",
      "During handling of the above exception, another exception occurred:\n",
      "\n",
      "Traceback (most recent call last):\n",
      "  File \"C:\\Users\\ord-ryanmi\\AppData\\Local\\Continuum\\anaconda3\\lib\\site-packages\\requests\\adapters.py\", line 449, in send\n",
      "    timeout=timeout\n",
      "  File \"C:\\Users\\ord-ryanmi\\AppData\\Local\\Continuum\\anaconda3\\lib\\site-packages\\urllib3\\connectionpool.py\", line 638, in urlopen\n",
      "    _stacktrace=sys.exc_info()[2])\n",
      "  File \"C:\\Users\\ord-ryanmi\\AppData\\Local\\Continuum\\anaconda3\\lib\\site-packages\\urllib3\\util\\retry.py\", line 398, in increment\n",
      "    raise MaxRetryError(_pool, url, error or ResponseError(cause))\n",
      "urllib3.exceptions.MaxRetryError: HTTPSConnectionPool(host='query1.finance.yahoo.com', port=443): Max retries exceeded with url: /v8/finance/chart/AAPL?period1=1325397600&period2=1388469600&interval=1d&includePrePost=False&events=div%2Csplits (Caused by SSLError(SSLError(\"bad handshake: Error([('SSL routines', 'tls_process_server_certificate', 'certificate verify failed')])\")))\n",
      "\n",
      "During handling of the above exception, another exception occurred:\n",
      "\n",
      "Traceback (most recent call last):\n",
      "  File \"C:\\Users\\ord-ryanmi\\AppData\\Local\\Continuum\\anaconda3\\lib\\threading.py\", line 917, in _bootstrap_inner\n",
      "    self.run()\n",
      "  File \"C:\\Users\\ord-ryanmi\\AppData\\Local\\Continuum\\anaconda3\\lib\\threading.py\", line 865, in run\n",
      "    self._target(*self._args, **self._kwargs)\n",
      "  File \"C:\\Users\\ord-ryanmi\\AppData\\Local\\Continuum\\anaconda3\\lib\\site-packages\\multitasking\\__init__.py\", line 102, in _run_via_pool\n",
      "    return callee(*args, **kwargs)\n",
      "  File \"C:\\Users\\ord-ryanmi\\AppData\\Local\\Continuum\\anaconda3\\lib\\site-packages\\yfinance\\multi.py\", line 167, in _download_one_threaded\n",
      "    actions, period, interval, prepost, proxy, rounding)\n",
      "  File \"C:\\Users\\ord-ryanmi\\AppData\\Local\\Continuum\\anaconda3\\lib\\site-packages\\yfinance\\multi.py\", line 182, in _download_one\n",
      "    rounding=rounding, many=True)\n",
      "  File \"C:\\Users\\ord-ryanmi\\AppData\\Local\\Continuum\\anaconda3\\lib\\site-packages\\yfinance\\base.py\", line 137, in history\n",
      "    data = _requests.get(url=url, params=params, proxies=proxy)\n",
      "  File \"C:\\Users\\ord-ryanmi\\AppData\\Local\\Continuum\\anaconda3\\lib\\site-packages\\requests\\api.py\", line 75, in get\n",
      "    return request('get', url, params=params, **kwargs)\n",
      "  File \"C:\\Users\\ord-ryanmi\\AppData\\Local\\Continuum\\anaconda3\\lib\\site-packages\\requests\\api.py\", line 60, in request\n",
      "    return session.request(method=method, url=url, **kwargs)\n",
      "  File \"C:\\Users\\ord-ryanmi\\AppData\\Local\\Continuum\\anaconda3\\lib\\site-packages\\requests\\sessions.py\", line 533, in request\n",
      "    resp = self.send(prep, **send_kwargs)\n",
      "  File \"C:\\Users\\ord-ryanmi\\AppData\\Local\\Continuum\\anaconda3\\lib\\site-packages\\requests\\sessions.py\", line 646, in send\n",
      "    r = adapter.send(request, **kwargs)\n",
      "  File \"C:\\Users\\ord-ryanmi\\AppData\\Local\\Continuum\\anaconda3\\lib\\site-packages\\requests\\adapters.py\", line 514, in send\n",
      "    raise SSLError(e, request=request)\n",
      "requests.exceptions.SSLError: HTTPSConnectionPool(host='query1.finance.yahoo.com', port=443): Max retries exceeded with url: /v8/finance/chart/AAPL?period1=1325397600&period2=1388469600&interval=1d&includePrePost=False&events=div%2Csplits (Caused by SSLError(SSLError(\"bad handshake: Error([('SSL routines', 'tls_process_server_certificate', 'certificate verify failed')])\")))\n",
      "\n"
     ]
    },
    {
     "ename": "KeyboardInterrupt",
     "evalue": "",
     "output_type": "error",
     "traceback": [
      "\u001b[1;31m---------------------------------------------------------------------------\u001b[0m",
      "\u001b[1;31mKeyboardInterrupt\u001b[0m                         Traceback (most recent call last)",
      "\u001b[1;32m<ipython-input-229-bfbc0aacac58>\u001b[0m in \u001b[0;36m<module>\u001b[1;34m\u001b[0m\n\u001b[0;32m      5\u001b[0m \u001b[1;33m\u001b[0m\u001b[0m\n\u001b[0;32m      6\u001b[0m \u001b[1;31m#reading in adjusted closing prices\u001b[0m\u001b[1;33m\u001b[0m\u001b[1;33m\u001b[0m\u001b[1;33m\u001b[0m\u001b[0m\n\u001b[1;32m----> 7\u001b[1;33m \u001b[0mprices\u001b[0m \u001b[1;33m=\u001b[0m \u001b[0mpull_prices\u001b[0m\u001b[1;33m(\u001b[0m\u001b[0msymbol\u001b[0m\u001b[1;33m,\u001b[0m \u001b[0msd\u001b[0m\u001b[1;33m,\u001b[0m \u001b[0med\u001b[0m\u001b[1;33m)\u001b[0m\u001b[1;33m\u001b[0m\u001b[1;33m\u001b[0m\u001b[0m\n\u001b[0m\u001b[0;32m      8\u001b[0m \u001b[1;33m\u001b[0m\u001b[0m\n\u001b[0;32m      9\u001b[0m \u001b[1;31m#normalizing the prices\u001b[0m\u001b[1;33m\u001b[0m\u001b[1;33m\u001b[0m\u001b[1;33m\u001b[0m\u001b[0m\n",
      "\u001b[1;32m<ipython-input-216-b4583ed6ba44>\u001b[0m in \u001b[0;36mpull_prices\u001b[1;34m(symbol, sd, ed)\u001b[0m\n\u001b[0;32m     14\u001b[0m     \u001b[1;31m#reading in the stock data using util.py and removing nulls\u001b[0m\u001b[1;33m\u001b[0m\u001b[1;33m\u001b[0m\u001b[1;33m\u001b[0m\u001b[0m\n\u001b[0;32m     15\u001b[0m     df = yf.download(symbol, start=sd, end=ed,\n\u001b[1;32m---> 16\u001b[1;33m                      group_by=\"ticker\", auto_adjust=True)\n\u001b[0m\u001b[0;32m     17\u001b[0m     \u001b[0mprices\u001b[0m \u001b[1;33m=\u001b[0m \u001b[0mdf\u001b[0m\u001b[1;33m.\u001b[0m\u001b[0mfilter\u001b[0m\u001b[1;33m(\u001b[0m\u001b[0mitems\u001b[0m\u001b[1;33m=\u001b[0m\u001b[1;33m[\u001b[0m\u001b[1;34m'Close'\u001b[0m\u001b[1;33m]\u001b[0m\u001b[1;33m,\u001b[0m\u001b[0maxis\u001b[0m\u001b[1;33m=\u001b[0m\u001b[1;36m1\u001b[0m\u001b[1;33m)\u001b[0m\u001b[1;33m\u001b[0m\u001b[1;33m\u001b[0m\u001b[0m\n\u001b[0;32m     18\u001b[0m     \u001b[0mprices\u001b[0m\u001b[1;33m.\u001b[0m\u001b[0mcolumns\u001b[0m \u001b[1;33m=\u001b[0m \u001b[1;33m[\u001b[0m\u001b[0msymbol\u001b[0m\u001b[1;33m]\u001b[0m\u001b[1;33m\u001b[0m\u001b[1;33m\u001b[0m\u001b[0m\n",
      "\u001b[1;32m~\\AppData\\Local\\Continuum\\anaconda3\\lib\\site-packages\\yfinance\\multi.py\u001b[0m in \u001b[0;36mdownload\u001b[1;34m(tickers, start, end, actions, threads, group_by, auto_adjust, back_adjust, progress, period, interval, prepost, proxy, rounding, **kwargs)\u001b[0m\n\u001b[0;32m     93\u001b[0m                                    rounding=rounding)\n\u001b[0;32m     94\u001b[0m         \u001b[1;32mwhile\u001b[0m \u001b[0mlen\u001b[0m\u001b[1;33m(\u001b[0m\u001b[0mshared\u001b[0m\u001b[1;33m.\u001b[0m\u001b[0m_DFS\u001b[0m\u001b[1;33m)\u001b[0m \u001b[1;33m<\u001b[0m \u001b[0mlen\u001b[0m\u001b[1;33m(\u001b[0m\u001b[0mtickers\u001b[0m\u001b[1;33m)\u001b[0m\u001b[1;33m:\u001b[0m\u001b[1;33m\u001b[0m\u001b[1;33m\u001b[0m\u001b[0m\n\u001b[1;32m---> 95\u001b[1;33m             \u001b[0m_time\u001b[0m\u001b[1;33m.\u001b[0m\u001b[0msleep\u001b[0m\u001b[1;33m(\u001b[0m\u001b[1;36m0.01\u001b[0m\u001b[1;33m)\u001b[0m\u001b[1;33m\u001b[0m\u001b[1;33m\u001b[0m\u001b[0m\n\u001b[0m\u001b[0;32m     96\u001b[0m \u001b[1;33m\u001b[0m\u001b[0m\n\u001b[0;32m     97\u001b[0m     \u001b[1;31m# download synchronously\u001b[0m\u001b[1;33m\u001b[0m\u001b[1;33m\u001b[0m\u001b[1;33m\u001b[0m\u001b[0m\n",
      "\u001b[1;31mKeyboardInterrupt\u001b[0m: "
     ]
    }
   ],
   "source": [
    "#storing the symbol to trade, starting and ending dates for trading\n",
    "symbol = 'AAPL'\n",
    "sd = '2012-01-01'\n",
    "ed = '2013-12-31'\n",
    "\n",
    "#reading in adjusted closing prices\n",
    "prices = pull_prices(symbol, sd, ed)\n",
    "\n",
    "#normalizing the prices\n",
    "ss = StandardScaler()\n",
    "prices_norm = pd.DataFrame(ss.fit_transform(prices),index=prices.index, columns=[symbol])\n",
    "\n",
    "prices_norm.head()"
   ]
  },
  {
   "cell_type": "code",
   "execution_count": 218,
   "metadata": {},
   "outputs": [
    {
     "data": {
      "text/html": [
       "<div>\n",
       "<style scoped>\n",
       "    .dataframe tbody tr th:only-of-type {\n",
       "        vertical-align: middle;\n",
       "    }\n",
       "\n",
       "    .dataframe tbody tr th {\n",
       "        vertical-align: top;\n",
       "    }\n",
       "\n",
       "    .dataframe thead th {\n",
       "        text-align: right;\n",
       "    }\n",
       "</style>\n",
       "<table border=\"1\" class=\"dataframe\">\n",
       "  <thead>\n",
       "    <tr style=\"text-align: right;\">\n",
       "      <th></th>\n",
       "      <th>Price/SMA</th>\n",
       "      <th>Bollinger Bands</th>\n",
       "      <th>Volatility</th>\n",
       "      <th>Previous Price</th>\n",
       "    </tr>\n",
       "    <tr>\n",
       "      <th>Date</th>\n",
       "      <th></th>\n",
       "      <th></th>\n",
       "      <th></th>\n",
       "      <th></th>\n",
       "    </tr>\n",
       "  </thead>\n",
       "  <tbody>\n",
       "    <tr>\n",
       "      <th>2012-01-18</th>\n",
       "      <td>-0.008674</td>\n",
       "      <td>1.345069</td>\n",
       "      <td>-0.287062</td>\n",
       "      <td>-1.469857</td>\n",
       "    </tr>\n",
       "    <tr>\n",
       "      <th>2012-01-19</th>\n",
       "      <td>-0.003027</td>\n",
       "      <td>0.999659</td>\n",
       "      <td>-0.286849</td>\n",
       "      <td>-1.404742</td>\n",
       "    </tr>\n",
       "    <tr>\n",
       "      <th>2012-01-20</th>\n",
       "      <td>0.013087</td>\n",
       "      <td>-0.920177</td>\n",
       "      <td>-0.285619</td>\n",
       "      <td>-1.346019</td>\n",
       "    </tr>\n",
       "    <tr>\n",
       "      <th>2012-01-23</th>\n",
       "      <td>-0.000839</td>\n",
       "      <td>0.763345</td>\n",
       "      <td>-0.285141</td>\n",
       "      <td>-1.364129</td>\n",
       "    </tr>\n",
       "    <tr>\n",
       "      <th>2012-01-24</th>\n",
       "      <td>0.013655</td>\n",
       "      <td>-0.899240</td>\n",
       "      <td>-0.284354</td>\n",
       "      <td>-1.463333</td>\n",
       "    </tr>\n",
       "  </tbody>\n",
       "</table>\n",
       "</div>"
      ],
      "text/plain": [
       "            Price/SMA  Bollinger Bands  Volatility  Previous Price\n",
       "Date                                                              \n",
       "2012-01-18  -0.008674         1.345069   -0.287062       -1.469857\n",
       "2012-01-19  -0.003027         0.999659   -0.286849       -1.404742\n",
       "2012-01-20   0.013087        -0.920177   -0.285619       -1.346019\n",
       "2012-01-23  -0.000839         0.763345   -0.285141       -1.364129\n",
       "2012-01-24   0.013655        -0.899240   -0.284354       -1.463333"
      ]
     },
     "execution_count": 218,
     "metadata": {},
     "output_type": "execute_result"
    }
   ],
   "source": [
    "#generating the indicators from the price data\n",
    "n = 10\n",
    "indicators = generate_indicators(prices_norm, n)\n",
    "#removing the first n rows of the indicators df to remove nulls \n",
    "indicators = indicators.iloc[n:,:]\n",
    "#removing the first n rows of the prices df to match the indicators df\n",
    "prices_norm = prices_norm.iloc[n:,:]\n",
    "indicators.head()"
   ]
  },
  {
   "cell_type": "code",
   "execution_count": 219,
   "metadata": {},
   "outputs": [
    {
     "data": {
      "text/html": [
       "<div>\n",
       "<style scoped>\n",
       "    .dataframe tbody tr th:only-of-type {\n",
       "        vertical-align: middle;\n",
       "    }\n",
       "\n",
       "    .dataframe tbody tr th {\n",
       "        vertical-align: top;\n",
       "    }\n",
       "\n",
       "    .dataframe thead th {\n",
       "        text-align: right;\n",
       "    }\n",
       "</style>\n",
       "<table border=\"1\" class=\"dataframe\">\n",
       "  <thead>\n",
       "    <tr style=\"text-align: right;\">\n",
       "      <th></th>\n",
       "      <th>AAPL</th>\n",
       "    </tr>\n",
       "    <tr>\n",
       "      <th>Date</th>\n",
       "      <th></th>\n",
       "    </tr>\n",
       "  </thead>\n",
       "  <tbody>\n",
       "    <tr>\n",
       "      <th>2012-01-18</th>\n",
       "      <td>-1.346019</td>\n",
       "    </tr>\n",
       "    <tr>\n",
       "      <th>2012-01-19</th>\n",
       "      <td>-1.364129</td>\n",
       "    </tr>\n",
       "    <tr>\n",
       "      <th>2012-01-20</th>\n",
       "      <td>-1.463333</td>\n",
       "    </tr>\n",
       "    <tr>\n",
       "      <th>2012-01-23</th>\n",
       "      <td>-1.368656</td>\n",
       "    </tr>\n",
       "    <tr>\n",
       "      <th>2012-01-24</th>\n",
       "      <td>-1.461868</td>\n",
       "    </tr>\n",
       "  </tbody>\n",
       "</table>\n",
       "</div>"
      ],
      "text/plain": [
       "                AAPL\n",
       "Date                \n",
       "2012-01-18 -1.346019\n",
       "2012-01-19 -1.364129\n",
       "2012-01-20 -1.463333\n",
       "2012-01-23 -1.368656\n",
       "2012-01-24 -1.461868"
      ]
     },
     "execution_count": 219,
     "metadata": {},
     "output_type": "execute_result"
    }
   ],
   "source": [
    "prices_norm.head()"
   ]
  },
  {
   "cell_type": "code",
   "execution_count": 220,
   "metadata": {},
   "outputs": [
    {
     "name": "stdout",
     "output_type": "stream",
     "text": [
      "R-Squared of Model: 0.98340\n"
     ]
    }
   ],
   "source": [
    "#using ridge regression to predict the stock prices\n",
    "# model = make_pipeline(PolynomialFeatures(5),Ridge(alpha=0.8, random_state=0))\n",
    "model = Ridge(alpha=0.001, random_state=0)\n",
    "model.fit(indicators, prices_norm)\n",
    "prices_pred = model.predict(indicators)\n",
    "\n",
    "#scoring model\n",
    "print(\"R-Squared of Model: %0.5f\"%model.score(indicators, prices_norm))"
   ]
  },
  {
   "cell_type": "code",
   "execution_count": 221,
   "metadata": {},
   "outputs": [
    {
     "data": {
      "image/png": "[encoded data removed]",
      "text/plain": [
       "<Figure size 432x288 with 1 Axes>"
      ]
     },
     "metadata": {
      "needs_background": "light"
     },
     "output_type": "display_data"
    }
   ],
   "source": [
    "plt.plot(prices_pred, color='b', label='Predictions')\n",
    "plt.plot(prices_norm.values, color='g', label='Prices')\n",
    "plt.legend()\n",
    "plt.show()"
   ]
  },
  {
   "cell_type": "markdown",
   "metadata": {},
   "source": [
    "## Out-of-Sample Period "
   ]
  },
  {
   "cell_type": "code",
   "execution_count": 235,
   "metadata": {
    "collapsed": true
   },
   "outputs": [
    {
     "name": "stderr",
     "output_type": "stream",
     "text": [
      "Exception in thread Thread-37:\n",
      "Traceback (most recent call last):\n",
      "  File \"C:\\Users\\ord-ryanmi\\AppData\\Local\\Continuum\\anaconda3\\lib\\site-packages\\urllib3\\contrib\\pyopenssl.py\", line 453, in wrap_socket\n",
      "    cnx.do_handshake()\n",
      "  File \"C:\\Users\\ord-ryanmi\\AppData\\Local\\Continuum\\anaconda3\\lib\\site-packages\\OpenSSL\\SSL.py\", line 1915, in do_handshake\n",
      "    self._raise_ssl_error(self._ssl, result)\n",
      "  File \"C:\\Users\\ord-ryanmi\\AppData\\Local\\Continuum\\anaconda3\\lib\\site-packages\\OpenSSL\\SSL.py\", line 1647, in _raise_ssl_error\n",
      "    _raise_current_error()\n",
      "  File \"C:\\Users\\ord-ryanmi\\AppData\\Local\\Continuum\\anaconda3\\lib\\site-packages\\OpenSSL\\_util.py\", line 54, in exception_from_error_queue\n",
      "    raise exception_type(errors)\n",
      "OpenSSL.SSL.Error: [('SSL routines', 'tls_process_server_certificate', 'certificate verify failed')]\n",
      "\n",
      "During handling of the above exception, another exception occurred:\n",
      "\n",
      "Traceback (most recent call last):\n",
      "  File \"C:\\Users\\ord-ryanmi\\AppData\\Local\\Continuum\\anaconda3\\lib\\site-packages\\urllib3\\connectionpool.py\", line 600, in urlopen\n",
      "    chunked=chunked)\n",
      "  File \"C:\\Users\\ord-ryanmi\\AppData\\Local\\Continuum\\anaconda3\\lib\\site-packages\\urllib3\\connectionpool.py\", line 343, in _make_request\n",
      "    self._validate_conn(conn)\n",
      "  File \"C:\\Users\\ord-ryanmi\\AppData\\Local\\Continuum\\anaconda3\\lib\\site-packages\\urllib3\\connectionpool.py\", line 839, in _validate_conn\n",
      "    conn.connect()\n",
      "  File \"C:\\Users\\ord-ryanmi\\AppData\\Local\\Continuum\\anaconda3\\lib\\site-packages\\urllib3\\connection.py\", line 344, in connect\n",
      "    ssl_context=context)\n",
      "  File \"C:\\Users\\ord-ryanmi\\AppData\\Local\\Continuum\\anaconda3\\lib\\site-packages\\urllib3\\util\\ssl_.py\", line 344, in ssl_wrap_socket\n",
      "    return context.wrap_socket(sock, server_hostname=server_hostname)\n",
      "  File \"C:\\Users\\ord-ryanmi\\AppData\\Local\\Continuum\\anaconda3\\lib\\site-packages\\urllib3\\contrib\\pyopenssl.py\", line 459, in wrap_socket\n",
      "    raise ssl.SSLError('bad handshake: %r' % e)\n",
      "ssl.SSLError: (\"bad handshake: Error([('SSL routines', 'tls_process_server_certificate', 'certificate verify failed')])\",)\n",
      "\n",
      "During handling of the above exception, another exception occurred:\n",
      "\n",
      "Traceback (most recent call last):\n",
      "  File \"C:\\Users\\ord-ryanmi\\AppData\\Local\\Continuum\\anaconda3\\lib\\site-packages\\requests\\adapters.py\", line 449, in send\n",
      "    timeout=timeout\n",
      "  File \"C:\\Users\\ord-ryanmi\\AppData\\Local\\Continuum\\anaconda3\\lib\\site-packages\\urllib3\\connectionpool.py\", line 638, in urlopen\n",
      "    _stacktrace=sys.exc_info()[2])\n",
      "  File \"C:\\Users\\ord-ryanmi\\AppData\\Local\\Continuum\\anaconda3\\lib\\site-packages\\urllib3\\util\\retry.py\", line 398, in increment\n",
      "    raise MaxRetryError(_pool, url, error or ResponseError(cause))\n",
      "urllib3.exceptions.MaxRetryError: HTTPSConnectionPool(host='query1.finance.yahoo.com', port=443): Max retries exceeded with url: /v8/finance/chart/AAPL?period1=1514786400&period2=1574834400&interval=1d&includePrePost=False&events=div%2Csplits (Caused by SSLError(SSLError(\"bad handshake: Error([('SSL routines', 'tls_process_server_certificate', 'certificate verify failed')])\")))\n",
      "\n",
      "During handling of the above exception, another exception occurred:\n",
      "\n",
      "Traceback (most recent call last):\n",
      "  File \"C:\\Users\\ord-ryanmi\\AppData\\Local\\Continuum\\anaconda3\\lib\\threading.py\", line 917, in _bootstrap_inner\n",
      "    self.run()\n",
      "  File \"C:\\Users\\ord-ryanmi\\AppData\\Local\\Continuum\\anaconda3\\lib\\threading.py\", line 865, in run\n",
      "    self._target(*self._args, **self._kwargs)\n",
      "  File \"C:\\Users\\ord-ryanmi\\AppData\\Local\\Continuum\\anaconda3\\lib\\site-packages\\multitasking\\__init__.py\", line 102, in _run_via_pool\n",
      "    return callee(*args, **kwargs)\n",
      "  File \"C:\\Users\\ord-ryanmi\\AppData\\Local\\Continuum\\anaconda3\\lib\\site-packages\\yfinance\\multi.py\", line 167, in _download_one_threaded\n",
      "    actions, period, interval, prepost, proxy, rounding)\n",
      "  File \"C:\\Users\\ord-ryanmi\\AppData\\Local\\Continuum\\anaconda3\\lib\\site-packages\\yfinance\\multi.py\", line 182, in _download_one\n",
      "    rounding=rounding, many=True)\n",
      "  File \"C:\\Users\\ord-ryanmi\\AppData\\Local\\Continuum\\anaconda3\\lib\\site-packages\\yfinance\\base.py\", line 137, in history\n",
      "    data = _requests.get(url=url, params=params, proxies=proxy)\n",
      "  File \"C:\\Users\\ord-ryanmi\\AppData\\Local\\Continuum\\anaconda3\\lib\\site-packages\\requests\\api.py\", line 75, in get\n",
      "    return request('get', url, params=params, **kwargs)\n",
      "  File \"C:\\Users\\ord-ryanmi\\AppData\\Local\\Continuum\\anaconda3\\lib\\site-packages\\requests\\api.py\", line 60, in request\n",
      "    return session.request(method=method, url=url, **kwargs)\n",
      "  File \"C:\\Users\\ord-ryanmi\\AppData\\Local\\Continuum\\anaconda3\\lib\\site-packages\\requests\\sessions.py\", line 533, in request\n",
      "    resp = self.send(prep, **send_kwargs)\n",
      "  File \"C:\\Users\\ord-ryanmi\\AppData\\Local\\Continuum\\anaconda3\\lib\\site-packages\\requests\\sessions.py\", line 646, in send\n",
      "    r = adapter.send(request, **kwargs)\n",
      "  File \"C:\\Users\\ord-ryanmi\\AppData\\Local\\Continuum\\anaconda3\\lib\\site-packages\\requests\\adapters.py\", line 514, in send\n",
      "    raise SSLError(e, request=request)\n",
      "requests.exceptions.SSLError: HTTPSConnectionPool(host='query1.finance.yahoo.com', port=443): Max retries exceeded with url: /v8/finance/chart/AAPL?period1=1514786400&period2=1574834400&interval=1d&includePrePost=False&events=div%2Csplits (Caused by SSLError(SSLError(\"bad handshake: Error([('SSL routines', 'tls_process_server_certificate', 'certificate verify failed')])\")))\n",
      "\n"
     ]
    },
    {
     "ename": "KeyboardInterrupt",
     "evalue": "",
     "output_type": "error",
     "traceback": [
      "\u001b[1;31m---------------------------------------------------------------------------\u001b[0m",
      "\u001b[1;31mKeyboardInterrupt\u001b[0m                         Traceback (most recent call last)",
      "\u001b[1;32m<ipython-input-235-db71bb84417f>\u001b[0m in \u001b[0;36m<module>\u001b[1;34m\u001b[0m\n\u001b[0;32m      5\u001b[0m \u001b[1;33m\u001b[0m\u001b[0m\n\u001b[0;32m      6\u001b[0m \u001b[1;31m#reading in adjusted closing prices\u001b[0m\u001b[1;33m\u001b[0m\u001b[1;33m\u001b[0m\u001b[1;33m\u001b[0m\u001b[0m\n\u001b[1;32m----> 7\u001b[1;33m \u001b[0mprices\u001b[0m \u001b[1;33m=\u001b[0m \u001b[0mpull_prices\u001b[0m\u001b[1;33m(\u001b[0m\u001b[0msymbol\u001b[0m\u001b[1;33m,\u001b[0m \u001b[0msd\u001b[0m\u001b[1;33m,\u001b[0m \u001b[0med\u001b[0m\u001b[1;33m)\u001b[0m\u001b[1;33m\u001b[0m\u001b[1;33m\u001b[0m\u001b[0m\n\u001b[0m\u001b[0;32m      8\u001b[0m \u001b[1;33m\u001b[0m\u001b[0m\n\u001b[0;32m      9\u001b[0m \u001b[1;31m#normalizing the prices\u001b[0m\u001b[1;33m\u001b[0m\u001b[1;33m\u001b[0m\u001b[1;33m\u001b[0m\u001b[0m\n",
      "\u001b[1;32m<ipython-input-216-b4583ed6ba44>\u001b[0m in \u001b[0;36mpull_prices\u001b[1;34m(symbol, sd, ed)\u001b[0m\n\u001b[0;32m     14\u001b[0m     \u001b[1;31m#reading in the stock data using util.py and removing nulls\u001b[0m\u001b[1;33m\u001b[0m\u001b[1;33m\u001b[0m\u001b[1;33m\u001b[0m\u001b[0m\n\u001b[0;32m     15\u001b[0m     df = yf.download(symbol, start=sd, end=ed,\n\u001b[1;32m---> 16\u001b[1;33m                      group_by=\"ticker\", auto_adjust=True)\n\u001b[0m\u001b[0;32m     17\u001b[0m     \u001b[0mprices\u001b[0m \u001b[1;33m=\u001b[0m \u001b[0mdf\u001b[0m\u001b[1;33m.\u001b[0m\u001b[0mfilter\u001b[0m\u001b[1;33m(\u001b[0m\u001b[0mitems\u001b[0m\u001b[1;33m=\u001b[0m\u001b[1;33m[\u001b[0m\u001b[1;34m'Close'\u001b[0m\u001b[1;33m]\u001b[0m\u001b[1;33m,\u001b[0m\u001b[0maxis\u001b[0m\u001b[1;33m=\u001b[0m\u001b[1;36m1\u001b[0m\u001b[1;33m)\u001b[0m\u001b[1;33m\u001b[0m\u001b[1;33m\u001b[0m\u001b[0m\n\u001b[0;32m     18\u001b[0m     \u001b[0mprices\u001b[0m\u001b[1;33m.\u001b[0m\u001b[0mcolumns\u001b[0m \u001b[1;33m=\u001b[0m \u001b[1;33m[\u001b[0m\u001b[0msymbol\u001b[0m\u001b[1;33m]\u001b[0m\u001b[1;33m\u001b[0m\u001b[1;33m\u001b[0m\u001b[0m\n",
      "\u001b[1;32m~\\AppData\\Local\\Continuum\\anaconda3\\lib\\site-packages\\yfinance\\multi.py\u001b[0m in \u001b[0;36mdownload\u001b[1;34m(tickers, start, end, actions, threads, group_by, auto_adjust, back_adjust, progress, period, interval, prepost, proxy, rounding, **kwargs)\u001b[0m\n\u001b[0;32m     93\u001b[0m                                    rounding=rounding)\n\u001b[0;32m     94\u001b[0m         \u001b[1;32mwhile\u001b[0m \u001b[0mlen\u001b[0m\u001b[1;33m(\u001b[0m\u001b[0mshared\u001b[0m\u001b[1;33m.\u001b[0m\u001b[0m_DFS\u001b[0m\u001b[1;33m)\u001b[0m \u001b[1;33m<\u001b[0m \u001b[0mlen\u001b[0m\u001b[1;33m(\u001b[0m\u001b[0mtickers\u001b[0m\u001b[1;33m)\u001b[0m\u001b[1;33m:\u001b[0m\u001b[1;33m\u001b[0m\u001b[1;33m\u001b[0m\u001b[0m\n\u001b[1;32m---> 95\u001b[1;33m             \u001b[0m_time\u001b[0m\u001b[1;33m.\u001b[0m\u001b[0msleep\u001b[0m\u001b[1;33m(\u001b[0m\u001b[1;36m0.01\u001b[0m\u001b[1;33m)\u001b[0m\u001b[1;33m\u001b[0m\u001b[1;33m\u001b[0m\u001b[0m\n\u001b[0m\u001b[0;32m     96\u001b[0m \u001b[1;33m\u001b[0m\u001b[0m\n\u001b[0;32m     97\u001b[0m     \u001b[1;31m# download synchronously\u001b[0m\u001b[1;33m\u001b[0m\u001b[1;33m\u001b[0m\u001b[1;33m\u001b[0m\u001b[0m\n",
      "\u001b[1;31mKeyboardInterrupt\u001b[0m: "
     ]
    }
   ],
   "source": [
    "#storing the symbol to trade, starting and ending dates for trading\n",
    "symbol = 'AAPL'\n",
    "sd = '2018-01-01'\n",
    "ed = '2019-11-27'\n",
    "\n",
    "#reading in adjusted closing prices\n",
    "prices = pull_prices(symbol, sd, ed)\n",
    "\n",
    "#normalizing the prices\n",
    "ss = StandardScaler()\n",
    "prices_norm = pd.DataFrame(ss.fit_transform(prices),index=prices.index, columns=[symbol])\n",
    "\n",
    "#generating the indicators from the price data\n",
    "n = 10\n",
    "indicators = generate_indicators(prices_norm, n)\n",
    "#removing the first n rows of the indicators df to remove nulls \n",
    "indicators = indicators.iloc[n:,:]\n",
    "#removing the first n rows of the prices df to match the indicators df\n",
    "prices_norm = prices_norm.iloc[n:,:]\n",
    "\n",
    "prices_norm[\"Predicted Price\"] = model.predict(indicators)\n",
    "prices_norm.head()"
   ]
  },
  {
   "cell_type": "code",
   "execution_count": 234,
   "metadata": {},
   "outputs": [
    {
     "name": "stdout",
     "output_type": "stream",
     "text": [
      "\n",
      "R-Squared of Model: 0.98499\n"
     ]
    },
    {
     "data": {
      "image/png": "[encoded data removed]",
      "text/plain": [
       "<Figure size 432x288 with 1 Axes>"
      ]
     },
     "metadata": {
      "needs_background": "light"
     },
     "output_type": "display_data"
    }
   ],
   "source": [
    "#scoring model\n",
    "print()\n",
    "print(\"R-Squared of Model: %0.5f\"%model.score(indicators, prices_norm.iloc[:,0]))\n",
    "\n",
    "prices_norm.plot(color=['b','g'])\n",
    "# plt.plot(x=prices_norm.index, y=prices_pred, color='b', label='Predictions')\n",
    "# plt.plot(x=prices_norm.index, y=prices_norm.values, color='g', label='Prices')\n",
    "plt.legend()\n",
    "plt.show()"
   ]
  }
 ],
 "metadata": {
  "kernelspec": {
   "display_name": "Python 3",
   "language": "python",
   "name": "python3"
  },
  "language_info": {
   "codemirror_mode": {
    "name": "ipython",
    "version": 3
   },
   "file_extension": ".py",
   "mimetype": "text/x-python",
   "name": "python",
   "nbconvert_exporter": "python",
   "pygments_lexer": "ipython3",
   "version": "3.7.3"
  }
 },
 "nbformat": 4,
 "nbformat_minor": 2
}
