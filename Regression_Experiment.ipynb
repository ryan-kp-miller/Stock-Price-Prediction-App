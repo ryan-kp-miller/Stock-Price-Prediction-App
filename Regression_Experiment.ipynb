{
 "cells": [
  {
   "cell_type": "code",
   "execution_count": 45,
   "metadata": {},
   "outputs": [],
   "source": [
    "import numpy as np\n",
    "import pandas as pd\n",
    "import yfinance as yf\n",
    "from indicators import *\n",
    "from sklearn.linear_model import Ridge\n",
    "from sklearn.preprocessing import StandardScaler\n",
    "from sklearn.preprocessing import PolynomialFeatures\n",
    "from sklearn.pipeline import make_pipeline\n",
    "import matplotlib.pyplot as plt"
   ]
  },
  {
   "cell_type": "code",
   "execution_count": 4,
   "metadata": {},
   "outputs": [],
   "source": [
    "def preprocess_data(symbol, sd, ed):\n",
    "    \"\"\"\n",
    "        helper method for reading in and preprocessing the prices data\n",
    "\n",
    "        inputs:\n",
    "            symbol: string representing the stock symbol for trading\n",
    "            sd:     string representing the date to start trading\n",
    "            ed:     string representing the date to stop trading\n",
    "\n",
    "        output:\n",
    "            prices: dataframe containing the preprocessed daily price data\n",
    "                    for the given stock\n",
    "    \"\"\"\n",
    "    #reading in the stock data using util.py and removing nulls\n",
    "    df = yf.download(symbol, start=sd, end=ed,\n",
    "                     group_by=\"ticker\", auto_adjust=True)\n",
    "    prices = df.filter(items=['Close'],axis=1)\n",
    "    prices.columns = [symbol]\n",
    "    prices.fillna(method='ffill', inplace=True) #forward-filling missing prices\n",
    "    prices.fillna(method='bfill', inplace=True) #back-filling missing prices\n",
    "    return prices"
   ]
  },
  {
   "cell_type": "code",
   "execution_count": 189,
   "metadata": {},
   "outputs": [],
   "source": [
    "def generate_indicators(prices, n):\n",
    "    \"\"\"\n",
    "        helper method for generating features dataframe containing the\n",
    "        training indicators\n",
    "\n",
    "        inputs:\n",
    "            prices:        dataframe containing the daily prices of a stock\n",
    "            n:             integer representing the window for the stock price \n",
    "                           indicators\n",
    "\n",
    "        output:\n",
    "            indicators_df: dataframe containing the Price/SMA Ratio,\n",
    "                           Bollinger Bands, and Volatility of the daily\n",
    "                           stock prices\n",
    "    \"\"\"\n",
    "    #creating the indicator dfs\n",
    "    price_sma_df = price_sma_ratio(prices, n)\n",
    "    bb_df = bollinger_bands(prices, n)\n",
    "    vol_df = volatility(prices, n)\n",
    "\n",
    "    #creating features dataframe for training the regressor\n",
    "    indicators_df = price_sma_df.join(bb_df,rsuffix=\"1\").join(vol_df,rsuffix=\"2\")\n",
    "    indicators_df.columns = [\"Price/SMA\", \"Bollinger Bands\", \"Volatility\"]\n",
    "    \n",
    "    #adding column for the previous days closing prices\n",
    "    indicators_df[\"Previous Price\"] = prices.shift(2).values\n",
    "    \n",
    "    return indicators_df"
   ]
  },
  {
   "cell_type": "code",
   "execution_count": 190,
   "metadata": {},
   "outputs": [],
   "source": [
    "def test_code(learner, orders_sl_df, sd, ed, symbol, sv, plot_title, plot_indicators_bool = False):\n",
    "    #reading in SPY prices over the in-sample date range\n",
    "    prices = learner.preprocess_data(symbol, sd, ed)\n",
    "    #test trades using marketsimcode\n",
    "    portvals_sl = compute_portvals(orders_sl_df, start_val = sv, commission=0.0, impact=0.005)\n",
    "\n",
    "    prices['Strategy Learner'] = portvals_sl\n",
    "    prices['Predicted Price'] = learner.prices_pred\n",
    "    plot_winnings(prices, plot_title, [\"Strategy Learner\",\n",
    "                  \"Prices\"], [], [])\n",
    "    adr,sddr,cr = port_stats(portvals_sl)\n",
    "\n",
    "    #if plot_indicators_bool == True, then plotting the indicator graphs\n",
    "    if plot_indicators_bool:\n",
    "        price_sma_plot(prices, n = 10)\n",
    "        bb_plot(prices, n = 10)\n",
    "        volatility_plot(prices, n = 10)\n",
    "\n",
    "    # Print statistics\n",
    "    print(f\"Start Date: {sd}\")\n",
    "    print(f\"End Date: {ed}\")\n",
    "    print(f\"Symbol: {symbol}\")\n",
    "    \n",
    "    print(f\"SL: Std Dev of Daily Returns: %.5f\"%sddr)\n",
    "    print(f\"SL: Average Daily Return: %.5f\"%adr)\n",
    "    print(f\"SL: Cumulative Return: %.5f\"%cr)"
   ]
  },
  {
   "cell_type": "markdown",
   "metadata": {},
   "source": [
    "## In-Sample Period"
   ]
  },
  {
   "cell_type": "code",
   "execution_count": 191,
   "metadata": {},
   "outputs": [
    {
     "name": "stdout",
     "output_type": "stream",
     "text": [
      "[*********************100%***********************]  1 of 1 completed\n"
     ]
    },
    {
     "data": {
      "text/html": [
       "<div>\n",
       "<style scoped>\n",
       "    .dataframe tbody tr th:only-of-type {\n",
       "        vertical-align: middle;\n",
       "    }\n",
       "\n",
       "    .dataframe tbody tr th {\n",
       "        vertical-align: top;\n",
       "    }\n",
       "\n",
       "    .dataframe thead th {\n",
       "        text-align: right;\n",
       "    }\n",
       "</style>\n",
       "<table border=\"1\" class=\"dataframe\">\n",
       "  <thead>\n",
       "    <tr style=\"text-align: right;\">\n",
       "      <th></th>\n",
       "      <th>AAPL</th>\n",
       "    </tr>\n",
       "    <tr>\n",
       "      <th>Date</th>\n",
       "      <th></th>\n",
       "    </tr>\n",
       "  </thead>\n",
       "  <tbody>\n",
       "    <tr>\n",
       "      <th>2012-01-03</th>\n",
       "      <td>-1.584109</td>\n",
       "    </tr>\n",
       "    <tr>\n",
       "      <th>2012-01-04</th>\n",
       "      <td>-1.554680</td>\n",
       "    </tr>\n",
       "    <tr>\n",
       "      <th>2012-01-05</th>\n",
       "      <td>-1.493559</td>\n",
       "    </tr>\n",
       "    <tr>\n",
       "      <th>2012-01-06</th>\n",
       "      <td>-1.435369</td>\n",
       "    </tr>\n",
       "    <tr>\n",
       "      <th>2012-01-09</th>\n",
       "      <td>-1.444291</td>\n",
       "    </tr>\n",
       "  </tbody>\n",
       "</table>\n",
       "</div>"
      ],
      "text/plain": [
       "                AAPL\n",
       "Date                \n",
       "2012-01-03 -1.584109\n",
       "2012-01-04 -1.554680\n",
       "2012-01-05 -1.493559\n",
       "2012-01-06 -1.435369\n",
       "2012-01-09 -1.444291"
      ]
     },
     "execution_count": 191,
     "metadata": {},
     "output_type": "execute_result"
    }
   ],
   "source": [
    "#storing the symbol to trade, starting and ending dates for trading\n",
    "symbol = 'AAPL'\n",
    "sd = '2012-01-01'\n",
    "ed = '2013-12-31'\n",
    "\n",
    "#reading in adjusted closing prices\n",
    "prices = preprocess_data(symbol, sd, ed)\n",
    "\n",
    "#normalizing the prices\n",
    "ss = StandardScaler()\n",
    "prices_norm = pd.DataFrame(ss.fit_transform(prices),index=prices.index, columns=[symbol])\n",
    "\n",
    "prices_norm.head()"
   ]
  },
  {
   "cell_type": "code",
   "execution_count": 192,
   "metadata": {},
   "outputs": [
    {
     "data": {
      "text/html": [
       "<div>\n",
       "<style scoped>\n",
       "    .dataframe tbody tr th:only-of-type {\n",
       "        vertical-align: middle;\n",
       "    }\n",
       "\n",
       "    .dataframe tbody tr th {\n",
       "        vertical-align: top;\n",
       "    }\n",
       "\n",
       "    .dataframe thead th {\n",
       "        text-align: right;\n",
       "    }\n",
       "</style>\n",
       "<table border=\"1\" class=\"dataframe\">\n",
       "  <thead>\n",
       "    <tr style=\"text-align: right;\">\n",
       "      <th></th>\n",
       "      <th>Price/SMA</th>\n",
       "      <th>Bollinger Bands</th>\n",
       "      <th>Volatility</th>\n",
       "      <th>Previous Price</th>\n",
       "    </tr>\n",
       "    <tr>\n",
       "      <th>Date</th>\n",
       "      <th></th>\n",
       "      <th></th>\n",
       "      <th></th>\n",
       "      <th></th>\n",
       "    </tr>\n",
       "  </thead>\n",
       "  <tbody>\n",
       "    <tr>\n",
       "      <th>2012-01-18</th>\n",
       "      <td>-0.008674</td>\n",
       "      <td>1.345069</td>\n",
       "      <td>-0.287062</td>\n",
       "      <td>-1.469857</td>\n",
       "    </tr>\n",
       "    <tr>\n",
       "      <th>2012-01-19</th>\n",
       "      <td>-0.003027</td>\n",
       "      <td>0.999659</td>\n",
       "      <td>-0.286849</td>\n",
       "      <td>-1.404742</td>\n",
       "    </tr>\n",
       "    <tr>\n",
       "      <th>2012-01-20</th>\n",
       "      <td>0.013087</td>\n",
       "      <td>-0.920177</td>\n",
       "      <td>-0.285619</td>\n",
       "      <td>-1.346019</td>\n",
       "    </tr>\n",
       "    <tr>\n",
       "      <th>2012-01-23</th>\n",
       "      <td>-0.000839</td>\n",
       "      <td>0.763345</td>\n",
       "      <td>-0.285141</td>\n",
       "      <td>-1.364129</td>\n",
       "    </tr>\n",
       "    <tr>\n",
       "      <th>2012-01-24</th>\n",
       "      <td>0.013655</td>\n",
       "      <td>-0.899240</td>\n",
       "      <td>-0.284354</td>\n",
       "      <td>-1.463333</td>\n",
       "    </tr>\n",
       "  </tbody>\n",
       "</table>\n",
       "</div>"
      ],
      "text/plain": [
       "            Price/SMA  Bollinger Bands  Volatility  Previous Price\n",
       "Date                                                              \n",
       "2012-01-18  -0.008674         1.345069   -0.287062       -1.469857\n",
       "2012-01-19  -0.003027         0.999659   -0.286849       -1.404742\n",
       "2012-01-20   0.013087        -0.920177   -0.285619       -1.346019\n",
       "2012-01-23  -0.000839         0.763345   -0.285141       -1.364129\n",
       "2012-01-24   0.013655        -0.899240   -0.284354       -1.463333"
      ]
     },
     "execution_count": 192,
     "metadata": {},
     "output_type": "execute_result"
    }
   ],
   "source": [
    "#generating the indicators from the price data\n",
    "n = 10\n",
    "indicators = generate_indicators(prices_norm, n)\n",
    "#removing the first n rows of the indicators df to remove nulls \n",
    "indicators = indicators.iloc[n:,:]\n",
    "#removing the first n rows of the prices df to match the indicators df\n",
    "prices_norm = prices_norm.iloc[n:,:]\n",
    "indicators.head()"
   ]
  },
  {
   "cell_type": "code",
   "execution_count": 193,
   "metadata": {},
   "outputs": [
    {
     "data": {
      "text/html": [
       "<div>\n",
       "<style scoped>\n",
       "    .dataframe tbody tr th:only-of-type {\n",
       "        vertical-align: middle;\n",
       "    }\n",
       "\n",
       "    .dataframe tbody tr th {\n",
       "        vertical-align: top;\n",
       "    }\n",
       "\n",
       "    .dataframe thead th {\n",
       "        text-align: right;\n",
       "    }\n",
       "</style>\n",
       "<table border=\"1\" class=\"dataframe\">\n",
       "  <thead>\n",
       "    <tr style=\"text-align: right;\">\n",
       "      <th></th>\n",
       "      <th>AAPL</th>\n",
       "    </tr>\n",
       "    <tr>\n",
       "      <th>Date</th>\n",
       "      <th></th>\n",
       "    </tr>\n",
       "  </thead>\n",
       "  <tbody>\n",
       "    <tr>\n",
       "      <th>2012-01-18</th>\n",
       "      <td>-1.346019</td>\n",
       "    </tr>\n",
       "    <tr>\n",
       "      <th>2012-01-19</th>\n",
       "      <td>-1.364129</td>\n",
       "    </tr>\n",
       "    <tr>\n",
       "      <th>2012-01-20</th>\n",
       "      <td>-1.463333</td>\n",
       "    </tr>\n",
       "    <tr>\n",
       "      <th>2012-01-23</th>\n",
       "      <td>-1.368656</td>\n",
       "    </tr>\n",
       "    <tr>\n",
       "      <th>2012-01-24</th>\n",
       "      <td>-1.461868</td>\n",
       "    </tr>\n",
       "  </tbody>\n",
       "</table>\n",
       "</div>"
      ],
      "text/plain": [
       "                AAPL\n",
       "Date                \n",
       "2012-01-18 -1.346019\n",
       "2012-01-19 -1.364129\n",
       "2012-01-20 -1.463333\n",
       "2012-01-23 -1.368656\n",
       "2012-01-24 -1.461868"
      ]
     },
     "execution_count": 193,
     "metadata": {},
     "output_type": "execute_result"
    }
   ],
   "source": [
    "prices_norm.head()"
   ]
  },
  {
   "cell_type": "code",
   "execution_count": 206,
   "metadata": {},
   "outputs": [
    {
     "name": "stdout",
     "output_type": "stream",
     "text": [
      "R-Squared of Model: 0.98340\n"
     ]
    }
   ],
   "source": [
    "#using ridge regression to predict the stock prices\n",
    "# model = make_pipeline(PolynomialFeatures(5),Ridge(alpha=0.8, random_state=0))\n",
    "model = Ridge(alpha=0.8, random_state=0)\n",
    "model.fit(indicators, prices_norm)\n",
    "prices_pred = model.predict(indicators)\n",
    "\n",
    "#scoring model\n",
    "print(\"R-Squared of Model: %0.5f\"%model.score(indicators, prices_norm))"
   ]
  },
  {
   "cell_type": "code",
   "execution_count": 199,
   "metadata": {},
   "outputs": [
    {
     "data": {
      "image/png": "[encoded data removed]",
      "text/plain": [
       "<Figure size 432x288 with 1 Axes>"
      ]
     },
     "metadata": {
      "needs_background": "light"
     },
     "output_type": "display_data"
    }
   ],
   "source": [
    "plt.plot(prices_pred, color='b', label='Predictions')\n",
    "plt.plot(prices_norm.values, color='g', label='Prices')\n",
    "plt.legend()\n",
    "plt.show()"
   ]
  },
  {
   "cell_type": "markdown",
   "metadata": {},
   "source": [
    "## Out-of-Sample Period "
   ]
  },
  {
   "cell_type": "code",
   "execution_count": 207,
   "metadata": {},
   "outputs": [
    {
     "name": "stdout",
     "output_type": "stream",
     "text": [
      "[*********************100%***********************]  1 of 1 completed\n",
      "R-Squared of Model: 0.98846\n"
     ]
    }
   ],
   "source": [
    "#storing the symbol to trade, starting and ending dates for trading\n",
    "symbol = 'AAPL'\n",
    "sd = '2014-01-01'\n",
    "ed = '2015-12-31'\n",
    "\n",
    "#reading in adjusted closing prices\n",
    "prices = preprocess_data(symbol, sd, ed)\n",
    "\n",
    "#normalizing the prices\n",
    "ss = StandardScaler()\n",
    "prices_norm = pd.DataFrame(ss.fit_transform(prices),index=prices.index, columns=[symbol])\n",
    "\n",
    "#generating the indicators from the price data\n",
    "n = 10\n",
    "indicators = generate_indicators(prices_norm, n)\n",
    "#removing the first n rows of the indicators df to remove nulls \n",
    "indicators = indicators.iloc[n:,:]\n",
    "#removing the first n rows of the prices df to match the indicators df\n",
    "prices_norm = prices_norm.iloc[n:,:]\n",
    "\n",
    "prices_pred = model.predict(indicators)\n",
    "\n",
    "#scoring model\n",
    "print(\"R-Squared of Model: %0.5f\"%model.score(indicators, prices_norm))"
   ]
  }
 ],
 "metadata": {
  "kernelspec": {
   "display_name": "Python 3",
   "language": "python",
   "name": "python3"
  },
  "language_info": {
   "codemirror_mode": {
    "name": "ipython",
    "version": 3
   },
   "file_extension": ".py",
   "mimetype": "text/x-python",
   "name": "python",
   "nbconvert_exporter": "python",
   "pygments_lexer": "ipython3",
   "version": "3.7.3"
  }
 },
 "nbformat": 4,
 "nbformat_minor": 2
}
